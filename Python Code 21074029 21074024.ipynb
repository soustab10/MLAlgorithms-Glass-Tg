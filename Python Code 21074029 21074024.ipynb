{
  "cells": [
    {
      "attachments": {},
      "cell_type": "markdown",
      "metadata": {
        "id": "AcEel9A782v3"
      },
      "source": [
        "# Testing the best Algorithms for Predicting Glass Transition Temperatures\n",
        "\n",
        "1. K-NN\n",
        "2. Random Forest Regression"
      ]
    },
    {
      "attachments": {},
      "cell_type": "markdown",
      "metadata": {
        "id": "mUVs-fvA4xWZ"
      },
      "source": [
        "### Importing and Analysing the Given Dataset"
      ]
    },
    {
      "cell_type": "code",
      "execution_count": 1,
      "metadata": {
        "id": "3mc6Ycj53-j9"
      },
      "outputs": [],
      "source": [
        "import numpy as nm  \n",
        "import matplotlib.pyplot as plt  \n",
        "%matplotlib inline\n",
        "import pandas as pd  \n",
        "import math  \n",
        "import sklearn.metrics  \n",
        "from sklearn.model_selection import train_test_split  "
      ]
    },
    {
      "attachments": {},
      "cell_type": "markdown",
      "metadata": {
        "id": "kfIlRIZI9y9_"
      },
      "source": [
        "Reading data from file and splitting the dataset into training and test datasets."
      ]
    },
    {
      "cell_type": "code",
      "execution_count": 2,
      "metadata": {
        "colab": {
          "base_uri": "https://localhost:8080/"
        },
        "id": "Zv4jdolr9yFk",
        "outputId": "efaa79f1-d85b-4f25-d6f6-72bb619e71ea"
      },
      "outputs": [
        {
          "name": "stdout",
          "output_type": "stream",
          "text": [
            "             ID   Li   Be         B         O   Na        Mg        Al  \\\n",
            "0  478474_40951  0.0  0.0  0.099699  0.628564  0.0  0.008412  0.052889   \n",
            "\n",
            "         Si    P  ...   Hf   Ta    W   Hg   Tl   Pb   Bi   Th    U      Tg  \n",
            "0  0.180302  0.0  ...  0.0  0.0  0.0  0.0  0.0  0.0  0.0  0.0  0.0  341.65  \n",
            "\n",
            "[1 rows x 67 columns]\n"
          ]
        }
      ],
      "source": [
        "data_set= pd.read_csv('1-s2.0-S1359645420300720-mmc1.csv')  \n",
        "\n",
        "print(data_set.head(1));\n",
        "\n",
        "x= data_set.iloc[:, 1:66].values  \n",
        "y= data_set.iloc[:, 66].values  \n",
        " \n"
      ]
    },
    {
      "cell_type": "code",
      "execution_count": 3,
      "metadata": {
        "id": "wQg8jnTG7Zh4"
      },
      "outputs": [],
      "source": [
        "# data_set.hist(column=['Tg'],bins=100, figsize=(10,10))\n",
        "# plt.title('Histogram of Tg and Number of Samples')\n",
        "# plt.xlabel('Tg')\n",
        "# plt.ylabel('Number of Samples')\n",
        "\n",
        "\n",
        "# x = nm.mean(data_set['Tg'])\n",
        "# print(\"Mean\" , x)\n",
        "# x = nm.median(data_set['Tg'])\n",
        "# print(\"Median\" , x)\n"
      ]
    },
    {
      "cell_type": "code",
      "execution_count": 4,
      "metadata": {
        "id": "mtCze30QAJSV"
      },
      "outputs": [],
      "source": [
        "# data_set.hist(column=['O'],bins=100, figsize=(10,10))\n",
        "# plt.title('Histogram of Atomic Percentage of Oxygen')\n",
        "# plt.xlabel('O')\n",
        "# plt.ylabel('Number of Samples')\n",
        "\n"
      ]
    },
    {
      "cell_type": "code",
      "execution_count": 5,
      "metadata": {
        "colab": {
          "base_uri": "https://localhost:8080/"
        },
        "id": "q3gwNVhZ5YVq",
        "outputId": "9b986071-96ce-4aef-d2de-8ec0961581d1"
      },
      "outputs": [
        {
          "name": "stdout",
          "output_type": "stream",
          "text": [
            "[0.0056243  0.         0.0056243  0.62429699 0.00843645 0.\n",
            " 0.00618673 0.         0.1631046  0.         0.         0.\n",
            " 0.         0.         0.         0.         0.         0.\n",
            " 0.         0.         0.02671541 0.         0.         0.\n",
            " 0.         0.         0.         0.         0.         0.\n",
            " 0.         0.         0.         0.         0.         0.\n",
            " 0.         0.1574803  0.         0.         0.         0.\n",
            " 0.         0.         0.         0.         0.         0.\n",
            " 0.         0.         0.         0.         0.         0.\n",
            " 0.         0.         0.         0.         0.00253093 0.\n",
            " 0.         0.         0.         0.         0.        ]\n",
            "561.15\n",
            "51000\n"
          ]
        }
      ],
      "source": [
        "x_train, x_test, y_train, y_test= train_test_split(x, y, test_size= 0.25, random_state=0)  \n",
        "print(x_train[1]);\n",
        "print(y_train[1]);\n",
        "\n",
        "print(len(data_set));"
      ]
    },
    {
      "attachments": {},
      "cell_type": "markdown",
      "metadata": {
        "id": "S0mwL4do-L00"
      },
      "source": [
        "### K Neighbours Regression\n",
        "\n",
        "The KNN algorithm uses ‘feature similarity’ to predict the values of any new data points. This means that the new point is assigned a value based on how closely it resembles the points in the training set. We are going to use KNN with K = sqrt(N) for best results i.e. K neighbours of a node are considered while training the data."
      ]
    },
    {
      "cell_type": "code",
      "execution_count": 6,
      "metadata": {
        "colab": {
          "base_uri": "https://localhost:8080/",
          "height": 74
        },
        "id": "eu9FOo1B-uhI",
        "outputId": "13732cf0-8d24-4da1-96ed-165dcf589a50"
      },
      "outputs": [
        {
          "data": {
            "text/html": [
              "<style>#sk-container-id-1 {color: black;background-color: white;}#sk-container-id-1 pre{padding: 0;}#sk-container-id-1 div.sk-toggleable {background-color: white;}#sk-container-id-1 label.sk-toggleable__label {cursor: pointer;display: block;width: 100%;margin-bottom: 0;padding: 0.3em;box-sizing: border-box;text-align: center;}#sk-container-id-1 label.sk-toggleable__label-arrow:before {content: \"▸\";float: left;margin-right: 0.25em;color: #696969;}#sk-container-id-1 label.sk-toggleable__label-arrow:hover:before {color: black;}#sk-container-id-1 div.sk-estimator:hover label.sk-toggleable__label-arrow:before {color: black;}#sk-container-id-1 div.sk-toggleable__content {max-height: 0;max-width: 0;overflow: hidden;text-align: left;background-color: #f0f8ff;}#sk-container-id-1 div.sk-toggleable__content pre {margin: 0.2em;color: black;border-radius: 0.25em;background-color: #f0f8ff;}#sk-container-id-1 input.sk-toggleable__control:checked~div.sk-toggleable__content {max-height: 200px;max-width: 100%;overflow: auto;}#sk-container-id-1 input.sk-toggleable__control:checked~label.sk-toggleable__label-arrow:before {content: \"▾\";}#sk-container-id-1 div.sk-estimator input.sk-toggleable__control:checked~label.sk-toggleable__label {background-color: #d4ebff;}#sk-container-id-1 div.sk-label input.sk-toggleable__control:checked~label.sk-toggleable__label {background-color: #d4ebff;}#sk-container-id-1 input.sk-hidden--visually {border: 0;clip: rect(1px 1px 1px 1px);clip: rect(1px, 1px, 1px, 1px);height: 1px;margin: -1px;overflow: hidden;padding: 0;position: absolute;width: 1px;}#sk-container-id-1 div.sk-estimator {font-family: monospace;background-color: #f0f8ff;border: 1px dotted black;border-radius: 0.25em;box-sizing: border-box;margin-bottom: 0.5em;}#sk-container-id-1 div.sk-estimator:hover {background-color: #d4ebff;}#sk-container-id-1 div.sk-parallel-item::after {content: \"\";width: 100%;border-bottom: 1px solid gray;flex-grow: 1;}#sk-container-id-1 div.sk-label:hover label.sk-toggleable__label {background-color: #d4ebff;}#sk-container-id-1 div.sk-serial::before {content: \"\";position: absolute;border-left: 1px solid gray;box-sizing: border-box;top: 0;bottom: 0;left: 50%;z-index: 0;}#sk-container-id-1 div.sk-serial {display: flex;flex-direction: column;align-items: center;background-color: white;padding-right: 0.2em;padding-left: 0.2em;position: relative;}#sk-container-id-1 div.sk-item {position: relative;z-index: 1;}#sk-container-id-1 div.sk-parallel {display: flex;align-items: stretch;justify-content: center;background-color: white;position: relative;}#sk-container-id-1 div.sk-item::before, #sk-container-id-1 div.sk-parallel-item::before {content: \"\";position: absolute;border-left: 1px solid gray;box-sizing: border-box;top: 0;bottom: 0;left: 50%;z-index: -1;}#sk-container-id-1 div.sk-parallel-item {display: flex;flex-direction: column;z-index: 1;position: relative;background-color: white;}#sk-container-id-1 div.sk-parallel-item:first-child::after {align-self: flex-end;width: 50%;}#sk-container-id-1 div.sk-parallel-item:last-child::after {align-self: flex-start;width: 50%;}#sk-container-id-1 div.sk-parallel-item:only-child::after {width: 0;}#sk-container-id-1 div.sk-dashed-wrapped {border: 1px dashed gray;margin: 0 0.4em 0.5em 0.4em;box-sizing: border-box;padding-bottom: 0.4em;background-color: white;}#sk-container-id-1 div.sk-label label {font-family: monospace;font-weight: bold;display: inline-block;line-height: 1.2em;}#sk-container-id-1 div.sk-label-container {text-align: center;}#sk-container-id-1 div.sk-container {/* jupyter's `normalize.less` sets `[hidden] { display: none; }` but bootstrap.min.css set `[hidden] { display: none !important; }` so we also need the `!important` here to be able to override the default hidden behavior on the sphinx rendered scikit-learn.org. See: https://github.com/scikit-learn/scikit-learn/issues/21755 */display: inline-block !important;position: relative;}#sk-container-id-1 div.sk-text-repr-fallback {display: none;}</style><div id=\"sk-container-id-1\" class=\"sk-top-container\"><div class=\"sk-text-repr-fallback\"><pre>KNeighborsRegressor(n_neighbors=6, weights=&#x27;distance&#x27;)</pre><b>In a Jupyter environment, please rerun this cell to show the HTML representation or trust the notebook. <br />On GitHub, the HTML representation is unable to render, please try loading this page with nbviewer.org.</b></div><div class=\"sk-container\" hidden><div class=\"sk-item\"><div class=\"sk-estimator sk-toggleable\"><input class=\"sk-toggleable__control sk-hidden--visually\" id=\"sk-estimator-id-1\" type=\"checkbox\" checked><label for=\"sk-estimator-id-1\" class=\"sk-toggleable__label sk-toggleable__label-arrow\">KNeighborsRegressor</label><div class=\"sk-toggleable__content\"><pre>KNeighborsRegressor(n_neighbors=6, weights=&#x27;distance&#x27;)</pre></div></div></div></div></div>"
            ],
            "text/plain": [
              "KNeighborsRegressor(n_neighbors=6, weights='distance')"
            ]
          },
          "execution_count": 6,
          "metadata": {},
          "output_type": "execute_result"
        }
      ],
      "source": [
        "from sklearn.neighbors import KNeighborsRegressor \n",
        "regressor_knn= KNeighborsRegressor(n_neighbors=6, weights = \"distance\")  \n",
        "regressor_knn.fit(x_train, y_train)  \n"
      ]
    },
    {
      "attachments": {},
      "cell_type": "markdown",
      "metadata": {
        "id": "jafWlZb8pitV"
      },
      "source": [
        "Predicting the data using the test dataset"
      ]
    },
    {
      "cell_type": "code",
      "execution_count": 7,
      "metadata": {
        "id": "mPnuAyltCAdJ"
      },
      "outputs": [],
      "source": [
        "y_pred= regressor_knn.predict(x_test)  "
      ]
    },
    {
      "cell_type": "code",
      "execution_count": 8,
      "metadata": {
        "colab": {
          "base_uri": "https://localhost:8080/"
        },
        "id": "30tPWJPBEV50",
        "outputId": "ec9876ae-cd3e-4b62-af2b-30ebbdf0e8ba"
      },
      "outputs": [
        {
          "name": "stdout",
          "output_type": "stream",
          "text": [
            "The difference between actual and predicted values 34.28984454099391\n"
          ]
        }
      ],
      "source": [
        "mse = sklearn.metrics.mean_squared_error(y_test, y_pred)  \n",
        "  \n",
        "rmse = math.sqrt(mse)  \n",
        "  \n",
        "print(\"The difference between actual and predicted values\", rmse)"
      ]
    },
    {
      "attachments": {},
      "cell_type": "markdown",
      "metadata": {
        "id": "xqtfGGl7pk21"
      },
      "source": [
        "Calculating the various parameters as mentioned in the paper for evaluating the algorithm used.\n",
        "\n",
        "1. **RMSE(Root Mean Square Error):** Compares the squared deviations from the expected outcomes and takes the square root from the\n",
        "aggregated errors.\n",
        "2. **RRMSE (Relative Root Mean Square Error):** Assesses the predictive performance regression algorithms, bringing the advantage of measuring the\n",
        "target algorithm improvements over a baseline.\n",
        "3. **RD (Relative Deviation):** Measures how the predictions deviate from the expected outcome in percentage.\n",
        "4. **R^2 (Proportion of Variance):** Proportion of the variance in the dependent variable that is predictable from the independent variable(s)."
      ]
    },
    {
      "cell_type": "code",
      "execution_count": 9,
      "metadata": {
        "colab": {
          "base_uri": "https://localhost:8080/"
        },
        "id": "D3pKnfSp1ptz",
        "outputId": "5fd35db2-ea9c-4e1d-844e-407788645b06"
      },
      "outputs": [
        {
          "name": "stdout",
          "output_type": "stream",
          "text": [
            "RMSE  34.28984454099391\n",
            "RRMSE  0.22914640402119607\n",
            "RD  2.61192880727317\n",
            "R_SQUARE  0.9474919255241547\n"
          ]
        }
      ],
      "source": [
        "mse = sklearn.metrics.mean_squared_error(y_test, y_pred)\n",
        "rmse = math.sqrt(mse)\n",
        "\n",
        "print(\"RMSE \", rmse);\n",
        "\n",
        "mean_y_test = y_test.mean()\n",
        "# print(mean_y_test)\n",
        "denom = nm.sum(nm.square(y_pred-mean_y_test))\n",
        "# print(denom)\n",
        "numer = nm.sum(nm.square(y_pred-y_test))\n",
        "# print(numer)\n",
        "\n",
        "rrmse = math.sqrt(numer/denom);\n",
        "print(\"RRMSE \", rrmse)\n",
        "\n",
        "rd = sum(abs(y_test-y_pred)/y_test)*100/len(y_test);\n",
        "\n",
        "print(\"RD \" , rd)\n",
        "\n",
        "r_square = 1 - (rrmse*rrmse);\n",
        "print(\"R_SQUARE \", r_square);"
      ]
    },
    {
      "attachments": {},
      "cell_type": "markdown",
      "metadata": {
        "id": "X48Ula-Aq0Gy"
      },
      "source": [
        "### Random Forest Regression\n",
        "\n",
        "A random forest is a meta estimator that fits a number of classifying decision trees on various sub-samples of the dataset and uses averaging to improve the predictive accuracy and control over-fitting. The sub-sample size is controlled with the max_samples parameter if bootstrap=True (default), otherwise the whole dataset is used to build each tree."
      ]
    },
    {
      "cell_type": "code",
      "execution_count": 10,
      "metadata": {
        "colab": {
          "base_uri": "https://localhost:8080/",
          "height": 74
        },
        "id": "1Jd6Op3dG1jh",
        "outputId": "a99abeb6-0373-4fa2-b11e-9b920270d772"
      },
      "outputs": [
        {
          "data": {
            "text/html": [
              "<style>#sk-container-id-2 {color: black;background-color: white;}#sk-container-id-2 pre{padding: 0;}#sk-container-id-2 div.sk-toggleable {background-color: white;}#sk-container-id-2 label.sk-toggleable__label {cursor: pointer;display: block;width: 100%;margin-bottom: 0;padding: 0.3em;box-sizing: border-box;text-align: center;}#sk-container-id-2 label.sk-toggleable__label-arrow:before {content: \"▸\";float: left;margin-right: 0.25em;color: #696969;}#sk-container-id-2 label.sk-toggleable__label-arrow:hover:before {color: black;}#sk-container-id-2 div.sk-estimator:hover label.sk-toggleable__label-arrow:before {color: black;}#sk-container-id-2 div.sk-toggleable__content {max-height: 0;max-width: 0;overflow: hidden;text-align: left;background-color: #f0f8ff;}#sk-container-id-2 div.sk-toggleable__content pre {margin: 0.2em;color: black;border-radius: 0.25em;background-color: #f0f8ff;}#sk-container-id-2 input.sk-toggleable__control:checked~div.sk-toggleable__content {max-height: 200px;max-width: 100%;overflow: auto;}#sk-container-id-2 input.sk-toggleable__control:checked~label.sk-toggleable__label-arrow:before {content: \"▾\";}#sk-container-id-2 div.sk-estimator input.sk-toggleable__control:checked~label.sk-toggleable__label {background-color: #d4ebff;}#sk-container-id-2 div.sk-label input.sk-toggleable__control:checked~label.sk-toggleable__label {background-color: #d4ebff;}#sk-container-id-2 input.sk-hidden--visually {border: 0;clip: rect(1px 1px 1px 1px);clip: rect(1px, 1px, 1px, 1px);height: 1px;margin: -1px;overflow: hidden;padding: 0;position: absolute;width: 1px;}#sk-container-id-2 div.sk-estimator {font-family: monospace;background-color: #f0f8ff;border: 1px dotted black;border-radius: 0.25em;box-sizing: border-box;margin-bottom: 0.5em;}#sk-container-id-2 div.sk-estimator:hover {background-color: #d4ebff;}#sk-container-id-2 div.sk-parallel-item::after {content: \"\";width: 100%;border-bottom: 1px solid gray;flex-grow: 1;}#sk-container-id-2 div.sk-label:hover label.sk-toggleable__label {background-color: #d4ebff;}#sk-container-id-2 div.sk-serial::before {content: \"\";position: absolute;border-left: 1px solid gray;box-sizing: border-box;top: 0;bottom: 0;left: 50%;z-index: 0;}#sk-container-id-2 div.sk-serial {display: flex;flex-direction: column;align-items: center;background-color: white;padding-right: 0.2em;padding-left: 0.2em;position: relative;}#sk-container-id-2 div.sk-item {position: relative;z-index: 1;}#sk-container-id-2 div.sk-parallel {display: flex;align-items: stretch;justify-content: center;background-color: white;position: relative;}#sk-container-id-2 div.sk-item::before, #sk-container-id-2 div.sk-parallel-item::before {content: \"\";position: absolute;border-left: 1px solid gray;box-sizing: border-box;top: 0;bottom: 0;left: 50%;z-index: -1;}#sk-container-id-2 div.sk-parallel-item {display: flex;flex-direction: column;z-index: 1;position: relative;background-color: white;}#sk-container-id-2 div.sk-parallel-item:first-child::after {align-self: flex-end;width: 50%;}#sk-container-id-2 div.sk-parallel-item:last-child::after {align-self: flex-start;width: 50%;}#sk-container-id-2 div.sk-parallel-item:only-child::after {width: 0;}#sk-container-id-2 div.sk-dashed-wrapped {border: 1px dashed gray;margin: 0 0.4em 0.5em 0.4em;box-sizing: border-box;padding-bottom: 0.4em;background-color: white;}#sk-container-id-2 div.sk-label label {font-family: monospace;font-weight: bold;display: inline-block;line-height: 1.2em;}#sk-container-id-2 div.sk-label-container {text-align: center;}#sk-container-id-2 div.sk-container {/* jupyter's `normalize.less` sets `[hidden] { display: none; }` but bootstrap.min.css set `[hidden] { display: none !important; }` so we also need the `!important` here to be able to override the default hidden behavior on the sphinx rendered scikit-learn.org. See: https://github.com/scikit-learn/scikit-learn/issues/21755 */display: inline-block !important;position: relative;}#sk-container-id-2 div.sk-text-repr-fallback {display: none;}</style><div id=\"sk-container-id-2\" class=\"sk-top-container\"><div class=\"sk-text-repr-fallback\"><pre>RandomForestRegressor(max_features=&#x27;sqrt&#x27;, n_estimators=933)</pre><b>In a Jupyter environment, please rerun this cell to show the HTML representation or trust the notebook. <br />On GitHub, the HTML representation is unable to render, please try loading this page with nbviewer.org.</b></div><div class=\"sk-container\" hidden><div class=\"sk-item\"><div class=\"sk-estimator sk-toggleable\"><input class=\"sk-toggleable__control sk-hidden--visually\" id=\"sk-estimator-id-2\" type=\"checkbox\" checked><label for=\"sk-estimator-id-2\" class=\"sk-toggleable__label sk-toggleable__label-arrow\">RandomForestRegressor</label><div class=\"sk-toggleable__content\"><pre>RandomForestRegressor(max_features=&#x27;sqrt&#x27;, n_estimators=933)</pre></div></div></div></div></div>"
            ],
            "text/plain": [
              "RandomForestRegressor(max_features='sqrt', n_estimators=933)"
            ]
          },
          "execution_count": 10,
          "metadata": {},
          "output_type": "execute_result"
        }
      ],
      "source": [
        "from sklearn.ensemble import RandomForestRegressor\n",
        "  \n",
        " # create regressor object\n",
        "regressor_rf = RandomForestRegressor(n_estimators = 933, max_features = \"sqrt\")\n",
        "  \n",
        "# fit the regressor with x and y data\n",
        "regressor_rf.fit(x_train, y_train) "
      ]
    },
    {
      "attachments": {},
      "cell_type": "markdown",
      "metadata": {
        "id": "ZCz4peUjrJNl"
      },
      "source": [
        "Predicting the data using the test dataset"
      ]
    },
    {
      "cell_type": "code",
      "execution_count": 11,
      "metadata": {
        "id": "qOLOZRpvHsg7"
      },
      "outputs": [],
      "source": [
        "y_pred = regressor_rf.predict(x_test)"
      ]
    },
    {
      "attachments": {},
      "cell_type": "markdown",
      "metadata": {
        "id": "TgRvBOy1rmP1"
      },
      "source": [
        "Calculating the various parameters as mentioned in the paper for evaluating the algorithm used.\n",
        "\n",
        "1. **RMSE(Root Mean Square Error):** Compares the squared deviations from the expected outcomes and takes the square root from the\n",
        "aggregated errors.\n",
        "2. **RRMSE (Relative Root Mean Square Error):** Assesses the predictive performance regression algorithms, bringing the advantage of measuring the\n",
        "target algorithm improvements over a baseline.\n",
        "3. **RD (Relative Deviation):** Measures how the predictions deviate from the expected outcome in percentage.\n",
        "4. **R^2 (Proportion of Variance):** Proportion of the variance in the dependent variable that is predictable from the independent variable(s)."
      ]
    },
    {
      "cell_type": "code",
      "execution_count": 12,
      "metadata": {
        "colab": {
          "base_uri": "https://localhost:8080/"
        },
        "id": "aspErRUKHy-W",
        "outputId": "e57268ad-be47-4188-9dea-f282be163684"
      },
      "outputs": [
        {
          "name": "stdout",
          "output_type": "stream",
          "text": [
            "RMSE  31.10948325126948\n",
            "RRMSE  0.21481493047132633\n",
            "RD  2.465429023622798\n",
            "R_SQUARE  0.9538545456465992\n"
          ]
        }
      ],
      "source": [
        "mse = sklearn.metrics.mean_squared_error(y_test, y_pred)\n",
        "rmse = math.sqrt(mse)\n",
        "\n",
        "print(\"RMSE \", rmse);\n",
        "\n",
        "mean_y_test = y_test.mean()\n",
        "# print(mean_y_test)\n",
        "denom = nm.sum(nm.square(y_pred-mean_y_test))\n",
        "# print(denom)\n",
        "numer = nm.sum(nm.square(y_pred-y_test))\n",
        "# print(numer)\n",
        "\n",
        "rrmse = math.sqrt(numer/denom);\n",
        "print(\"RRMSE \", rrmse)\n",
        "\n",
        "rd = sum(abs(y_test-y_pred)/y_test)*100/len(y_test);\n",
        "\n",
        "print(\"RD \" , rd)\n",
        "\n",
        "r_square = 1 - (rrmse*rrmse);\n",
        "print(\"R_SQUARE \", r_square);"
      ]
    },
    {
      "attachments": {},
      "cell_type": "markdown",
      "metadata": {
        "id": "Nkkqzj7_rpVV"
      },
      "source": [
        "Finding the values of other parameters to have an insight of the algorithm and how it can be used to train the model better."
      ]
    },
    {
      "cell_type": "code",
      "execution_count": 13,
      "metadata": {
        "colab": {
          "base_uri": "https://localhost:8080/"
        },
        "id": "CRzLVwnVKk6V",
        "outputId": "a8e9f87a-bcb7-4f61-e24f-fe320e2fc469"
      },
      "outputs": [
        {
          "name": "stdout",
          "output_type": "stream",
          "text": [
            "767.6092156862744\n",
            "267403355.58411467\n",
            "12339449.339052958\n",
            "0.21481493047132633\n"
          ]
        }
      ],
      "source": [
        "mean_y_test = y_test.mean()\n",
        "print(mean_y_test)\n",
        "denom = nm.sum(nm.square(y_pred-mean_y_test))\n",
        "print(denom)\n",
        "numer = nm.sum(nm.square(y_pred-y_test))\n",
        "print(numer)\n",
        "print(math.sqrt(numer/denom))"
      ]
    },
    {
      "cell_type": "code",
      "execution_count": 14,
      "metadata": {
        "colab": {
          "base_uri": "https://localhost:8080/"
        },
        "id": "cXj_xEyHN2Q-",
        "outputId": "6b149120-0a4c-4cd9-bb1e-1b2c32730be6"
      },
      "outputs": [
        {
          "data": {
            "text/plain": [
              "2.465429023622798"
            ]
          },
          "execution_count": 14,
          "metadata": {},
          "output_type": "execute_result"
        }
      ],
      "source": [
        "sum(abs(y_test-y_pred)/y_test)*100/len(y_test)"
      ]
    },
    {
      "attachments": {},
      "cell_type": "markdown",
      "metadata": {
        "id": "QNVspBlZvpl6"
      },
      "source": [
        "### Relative Importance of Parameters\n",
        "\n",
        "The Relative variable importance graph plots the predictors in order of their effect on model improvement when splits are made on a predictor over the entire forest. The variable with the highest improvement score is set as the most important variable, and the other variables follow in order of importance. Relative variable importance standardizes the importance values for ease of interpretation. Relative importance is defined as the percent improvement with respect to the most important predictor, which has an importance of 100%.\n",
        "\n",
        "Relative importance is calculated by dividing each variable importance score by the largest importance score of the variables, then we multiply by 100%.\n",
        "\n"
      ]
    },
    {
      "cell_type": "code",
      "execution_count": 15,
      "metadata": {
        "colab": {
          "base_uri": "https://localhost:8080/",
          "height": 74
        },
        "id": "3YRyt3CqwPj8",
        "outputId": "9a409f8e-f9e4-4438-bc58-c07238f17d62"
      },
      "outputs": [
        {
          "data": {
            "text/html": [
              "<style>#sk-container-id-3 {color: black;background-color: white;}#sk-container-id-3 pre{padding: 0;}#sk-container-id-3 div.sk-toggleable {background-color: white;}#sk-container-id-3 label.sk-toggleable__label {cursor: pointer;display: block;width: 100%;margin-bottom: 0;padding: 0.3em;box-sizing: border-box;text-align: center;}#sk-container-id-3 label.sk-toggleable__label-arrow:before {content: \"▸\";float: left;margin-right: 0.25em;color: #696969;}#sk-container-id-3 label.sk-toggleable__label-arrow:hover:before {color: black;}#sk-container-id-3 div.sk-estimator:hover label.sk-toggleable__label-arrow:before {color: black;}#sk-container-id-3 div.sk-toggleable__content {max-height: 0;max-width: 0;overflow: hidden;text-align: left;background-color: #f0f8ff;}#sk-container-id-3 div.sk-toggleable__content pre {margin: 0.2em;color: black;border-radius: 0.25em;background-color: #f0f8ff;}#sk-container-id-3 input.sk-toggleable__control:checked~div.sk-toggleable__content {max-height: 200px;max-width: 100%;overflow: auto;}#sk-container-id-3 input.sk-toggleable__control:checked~label.sk-toggleable__label-arrow:before {content: \"▾\";}#sk-container-id-3 div.sk-estimator input.sk-toggleable__control:checked~label.sk-toggleable__label {background-color: #d4ebff;}#sk-container-id-3 div.sk-label input.sk-toggleable__control:checked~label.sk-toggleable__label {background-color: #d4ebff;}#sk-container-id-3 input.sk-hidden--visually {border: 0;clip: rect(1px 1px 1px 1px);clip: rect(1px, 1px, 1px, 1px);height: 1px;margin: -1px;overflow: hidden;padding: 0;position: absolute;width: 1px;}#sk-container-id-3 div.sk-estimator {font-family: monospace;background-color: #f0f8ff;border: 1px dotted black;border-radius: 0.25em;box-sizing: border-box;margin-bottom: 0.5em;}#sk-container-id-3 div.sk-estimator:hover {background-color: #d4ebff;}#sk-container-id-3 div.sk-parallel-item::after {content: \"\";width: 100%;border-bottom: 1px solid gray;flex-grow: 1;}#sk-container-id-3 div.sk-label:hover label.sk-toggleable__label {background-color: #d4ebff;}#sk-container-id-3 div.sk-serial::before {content: \"\";position: absolute;border-left: 1px solid gray;box-sizing: border-box;top: 0;bottom: 0;left: 50%;z-index: 0;}#sk-container-id-3 div.sk-serial {display: flex;flex-direction: column;align-items: center;background-color: white;padding-right: 0.2em;padding-left: 0.2em;position: relative;}#sk-container-id-3 div.sk-item {position: relative;z-index: 1;}#sk-container-id-3 div.sk-parallel {display: flex;align-items: stretch;justify-content: center;background-color: white;position: relative;}#sk-container-id-3 div.sk-item::before, #sk-container-id-3 div.sk-parallel-item::before {content: \"\";position: absolute;border-left: 1px solid gray;box-sizing: border-box;top: 0;bottom: 0;left: 50%;z-index: -1;}#sk-container-id-3 div.sk-parallel-item {display: flex;flex-direction: column;z-index: 1;position: relative;background-color: white;}#sk-container-id-3 div.sk-parallel-item:first-child::after {align-self: flex-end;width: 50%;}#sk-container-id-3 div.sk-parallel-item:last-child::after {align-self: flex-start;width: 50%;}#sk-container-id-3 div.sk-parallel-item:only-child::after {width: 0;}#sk-container-id-3 div.sk-dashed-wrapped {border: 1px dashed gray;margin: 0 0.4em 0.5em 0.4em;box-sizing: border-box;padding-bottom: 0.4em;background-color: white;}#sk-container-id-3 div.sk-label label {font-family: monospace;font-weight: bold;display: inline-block;line-height: 1.2em;}#sk-container-id-3 div.sk-label-container {text-align: center;}#sk-container-id-3 div.sk-container {/* jupyter's `normalize.less` sets `[hidden] { display: none; }` but bootstrap.min.css set `[hidden] { display: none !important; }` so we also need the `!important` here to be able to override the default hidden behavior on the sphinx rendered scikit-learn.org. See: https://github.com/scikit-learn/scikit-learn/issues/21755 */display: inline-block !important;position: relative;}#sk-container-id-3 div.sk-text-repr-fallback {display: none;}</style><div id=\"sk-container-id-3\" class=\"sk-top-container\"><div class=\"sk-text-repr-fallback\"><pre>DecisionTreeRegressor(max_depth=25)</pre><b>In a Jupyter environment, please rerun this cell to show the HTML representation or trust the notebook. <br />On GitHub, the HTML representation is unable to render, please try loading this page with nbviewer.org.</b></div><div class=\"sk-container\" hidden><div class=\"sk-item\"><div class=\"sk-estimator sk-toggleable\"><input class=\"sk-toggleable__control sk-hidden--visually\" id=\"sk-estimator-id-3\" type=\"checkbox\" checked><label for=\"sk-estimator-id-3\" class=\"sk-toggleable__label sk-toggleable__label-arrow\">DecisionTreeRegressor</label><div class=\"sk-toggleable__content\"><pre>DecisionTreeRegressor(max_depth=25)</pre></div></div></div></div></div>"
            ],
            "text/plain": [
              "DecisionTreeRegressor(max_depth=25)"
            ]
          },
          "execution_count": 15,
          "metadata": {},
          "output_type": "execute_result"
        }
      ],
      "source": [
        "from sklearn import tree\n",
        "tree_model = tree.DecisionTreeRegressor(max_depth=25,random_state=None)\n",
        "tree_model.fit(x_train,y_train)"
      ]
    },
    {
      "cell_type": "code",
      "execution_count": 16,
      "metadata": {
        "colab": {
          "base_uri": "https://localhost:8080/"
        },
        "id": "yA8Psa0hxZPt",
        "outputId": "916cb720-54cd-4824-a9a4-ab76dc1d2951"
      },
      "outputs": [
        {
          "name": "stdout",
          "output_type": "stream",
          "text": [
            "<class 'pandas.core.frame.DataFrame'>\n",
            "RangeIndex: 51000 entries, 0 to 50999\n",
            "Data columns (total 66 columns):\n",
            " #   Column  Non-Null Count  Dtype  \n",
            "---  ------  --------------  -----  \n",
            " 0   Li      51000 non-null  float64\n",
            " 1   Be      51000 non-null  float64\n",
            " 2   B       51000 non-null  float64\n",
            " 3   O       51000 non-null  float64\n",
            " 4   Na      51000 non-null  float64\n",
            " 5   Mg      51000 non-null  float64\n",
            " 6   Al      51000 non-null  float64\n",
            " 7   Si      51000 non-null  float64\n",
            " 8   P       51000 non-null  float64\n",
            " 9   K       51000 non-null  float64\n",
            " 10  Ca      51000 non-null  float64\n",
            " 11  Sc      51000 non-null  float64\n",
            " 12  Ti      51000 non-null  float64\n",
            " 13  V       51000 non-null  float64\n",
            " 14  Cr      51000 non-null  float64\n",
            " 15  Mn      51000 non-null  float64\n",
            " 16  Fe      51000 non-null  float64\n",
            " 17  Co      51000 non-null  float64\n",
            " 18  Ni      51000 non-null  float64\n",
            " 19  Cu      51000 non-null  float64\n",
            " 20  Zn      51000 non-null  float64\n",
            " 21  Ga      51000 non-null  float64\n",
            " 22  Ge      51000 non-null  float64\n",
            " 23  As      51000 non-null  float64\n",
            " 24  Se      51000 non-null  float64\n",
            " 25  Rb      51000 non-null  float64\n",
            " 26  Sr      51000 non-null  float64\n",
            " 27  Y       51000 non-null  float64\n",
            " 28  Zr      51000 non-null  float64\n",
            " 29  Nb      51000 non-null  float64\n",
            " 30  Mo      51000 non-null  float64\n",
            " 31  Ru      51000 non-null  float64\n",
            " 32  Rh      51000 non-null  float64\n",
            " 33  Pd      51000 non-null  float64\n",
            " 34  Ag      51000 non-null  float64\n",
            " 35  Cd      51000 non-null  float64\n",
            " 36  In      51000 non-null  float64\n",
            " 37  Sn      51000 non-null  float64\n",
            " 38  Sb      51000 non-null  float64\n",
            " 39  Te      51000 non-null  float64\n",
            " 40  Cs      51000 non-null  float64\n",
            " 41  Ba      51000 non-null  float64\n",
            " 42  La      51000 non-null  float64\n",
            " 43  Ce      51000 non-null  float64\n",
            " 44  Pr      51000 non-null  float64\n",
            " 45  Nd      51000 non-null  float64\n",
            " 46  Sm      51000 non-null  float64\n",
            " 47  Eu      51000 non-null  float64\n",
            " 48  Gd      51000 non-null  float64\n",
            " 49  Tb      51000 non-null  float64\n",
            " 50  Dy      51000 non-null  float64\n",
            " 51  Ho      51000 non-null  float64\n",
            " 52  Er      51000 non-null  float64\n",
            " 53  Tm      51000 non-null  float64\n",
            " 54  Yb      51000 non-null  float64\n",
            " 55  Lu      51000 non-null  float64\n",
            " 56  Hf      51000 non-null  float64\n",
            " 57  Ta      51000 non-null  float64\n",
            " 58  W       51000 non-null  float64\n",
            " 59  Hg      51000 non-null  float64\n",
            " 60  Tl      51000 non-null  float64\n",
            " 61  Pb      51000 non-null  float64\n",
            " 62  Bi      51000 non-null  float64\n",
            " 63  Th      51000 non-null  float64\n",
            " 64  U       51000 non-null  float64\n",
            " 65  Tg      51000 non-null  float64\n",
            "dtypes: float64(66)\n",
            "memory usage: 25.7 MB\n"
          ]
        }
      ],
      "source": [
        "data = '1-s2.0-S1359645420300720-mmc1.csv'\n",
        "\n",
        "df = pd.read_csv(data)\n",
        "del df['ID']\n",
        "df.info()"
      ]
    },
    {
      "cell_type": "code",
      "execution_count": 17,
      "metadata": {
        "colab": {
          "base_uri": "https://localhost:8080/",
          "height": 1000
        },
        "id": "BtiISFDTwWcr",
        "outputId": "fa25a059-c279-49fe-d6dd-bebc4aa59ae2"
      },
      "outputs": [
        {
          "name": "stdout",
          "output_type": "stream",
          "text": [
            "Relative importance of the features:  [1.45310526e-02 4.20216842e-04 4.39754551e-02 1.09870798e-01\n",
            " 2.24389249e-02 6.48552124e-03 1.49085455e-01 3.04615385e-01\n",
            " 2.45787550e-02 5.01601954e-03 3.75500594e-02 1.41677947e-03\n",
            " 2.07825638e-02 2.34386467e-02 1.13644796e-04 3.00285330e-04\n",
            " 3.94317133e-03 1.28536325e-04 1.41573610e-04 1.48797358e-03\n",
            " 6.84721714e-03 7.56838658e-03 8.06600248e-03 2.87852631e-03\n",
            " 2.01644907e-04 7.30285586e-05 4.81403934e-03 1.64960181e-03\n",
            " 8.14120100e-03 9.41818952e-03 1.78518739e-03 0.00000000e+00\n",
            " 9.38227707e-09 3.82950084e-08 1.62714259e-02 2.69918642e-04\n",
            " 4.83349529e-04 9.36305057e-03 3.95056519e-03 4.17373782e-02\n",
            " 7.20707156e-04 7.28237607e-03 4.07711180e-02 1.20415437e-03\n",
            " 2.53138025e-03 1.61947292e-03 4.88827404e-04 8.56218082e-05\n",
            " 6.17512793e-04 3.87622043e-06 1.53561174e-06 1.85486921e-06\n",
            " 6.21685383e-04 1.29782938e-06 8.46529174e-05 4.69561489e-05\n",
            " 1.01007312e-05 1.74731330e-03 6.87225056e-04 0.00000000e+00\n",
            " 2.03379407e-03 2.86317418e-02 1.69667199e-02 2.46148531e-07\n",
            " 2.50449355e-07]\n"
          ]
        },
        {
          "data": {
            "image/png": "[encoded data removed]",
            "text/plain": [
              "<Figure size 720x1440 with 1 Axes>"
            ]
          },
          "metadata": {},
          "output_type": "display_data"
        }
      ],
      "source": [
        "print(\"Relative importance of the features: \",tree_model.feature_importances_)\n",
        "with plt.style.context('dark_background'):\n",
        "    plt.figure(figsize=(10,20))\n",
        "    plt.grid(True)\n",
        "    plt.yticks(range(len(df.columns),1,-1),df.columns[:-1],fontsize=15)\n",
        "    plt.xlabel(\"Relative (normalized) importance of parameters\",fontsize=15)\n",
        "    plt.ylabel(\"Features\\n\",fontsize=20)\n",
        "    plt.barh(range(len(df.columns),1,-1),width=tree_model.feature_importances_,height=0.40)"
      ]
    },
    {
      "attachments": {},
      "cell_type": "markdown",
      "metadata": {
        "id": "tq7pRuTwzUTD"
      },
      "source": [
        "### Dataset Partitioning"
      ]
    },
    {
      "attachments": {},
      "cell_type": "markdown",
      "metadata": {
        "id": "DODIpCvBr0VK"
      },
      "source": [
        "Partitioning the dataset based on high ( >= 1150 ) and low ( <=450 ) to find the same parameters on low and high values of Tg."
      ]
    },
    {
      "cell_type": "code",
      "execution_count": 18,
      "metadata": {
        "colab": {
          "base_uri": "https://localhost:8080/"
        },
        "id": "lD8yk9ZiOUPJ",
        "outputId": "6a6337c7-520a-45c3-d3f4-6a4c44485803"
      },
      "outputs": [
        {
          "name": "stdout",
          "output_type": "stream",
          "text": [
            "496\n",
            "378\n"
          ]
        }
      ],
      "source": [
        "low_extreme_values = data_set[ (data_set['Tg'] <= 450)];\n",
        "high_extreme_values = data_set[data_set['Tg'] >= 1150];\n",
        "\n",
        "#printing number of data values in the low and high Tg categories\n",
        "print(len(low_extreme_values));\n",
        "print(len(high_extreme_values));"
      ]
    },
    {
      "attachments": {},
      "cell_type": "markdown",
      "metadata": {
        "id": "x0oIbiepyvXs"
      },
      "source": [
        "Splitting the given dataset based on the high Tg values into test and train datasets."
      ]
    },
    {
      "cell_type": "code",
      "execution_count": 19,
      "metadata": {
        "colab": {
          "base_uri": "https://localhost:8080/"
        },
        "id": "sc_vDX_GU9sg",
        "outputId": "70f335f6-5579-46ee-ac6e-2ff72eda3b2a"
      },
      "outputs": [
        {
          "name": "stdout",
          "output_type": "stream",
          "text": [
            "[0.         0.         0.         0.62366829 0.00361034 0.0088829\n",
            " 0.1013895  0.1809935  0.00094582 0.01472809 0.02234547 0.\n",
            " 0.0033615  0.         0.         0.         0.04007458 0.\n",
            " 0.         0.         0.         0.         0.         0.\n",
            " 0.         0.         0.         0.         0.         0.\n",
            " 0.         0.         0.         0.         0.         0.\n",
            " 0.         0.         0.         0.         0.         0.\n",
            " 0.         0.         0.         0.         0.         0.\n",
            " 0.         0.         0.         0.         0.         0.\n",
            " 0.         0.         0.         0.         0.         0.\n",
            " 0.         0.         0.         0.         0.        ]\n",
            "1183.15\n"
          ]
        }
      ],
      "source": [
        "x = high_extreme_values.iloc[:, 1:66].values  \n",
        "y = high_extreme_values.iloc[:, 66].values  \n",
        "  \n",
        "# print(x[0]);\n",
        "# print(y[0]);\n",
        "\n",
        "x_train, x_test, y_train, y_test= train_test_split(x, y, test_size= 0.25, random_state=0)  \n",
        "print(x_train[0]);\n",
        "print(y_train[0]);\n"
      ]
    },
    {
      "attachments": {},
      "cell_type": "markdown",
      "metadata": {
        "id": "MNE_FOd1znrk"
      },
      "source": [
        "**Training and printing the outputs using the K-Neighbours Regression**"
      ]
    },
    {
      "cell_type": "code",
      "execution_count": 20,
      "metadata": {
        "colab": {
          "base_uri": "https://localhost:8080/",
          "height": 74
        },
        "id": "fCMYQjIsVHhr",
        "outputId": "c4898e34-b3fe-4a8a-e980-92db7297c451"
      },
      "outputs": [
        {
          "data": {
            "text/html": [
              "<style>#sk-container-id-4 {color: black;background-color: white;}#sk-container-id-4 pre{padding: 0;}#sk-container-id-4 div.sk-toggleable {background-color: white;}#sk-container-id-4 label.sk-toggleable__label {cursor: pointer;display: block;width: 100%;margin-bottom: 0;padding: 0.3em;box-sizing: border-box;text-align: center;}#sk-container-id-4 label.sk-toggleable__label-arrow:before {content: \"▸\";float: left;margin-right: 0.25em;color: #696969;}#sk-container-id-4 label.sk-toggleable__label-arrow:hover:before {color: black;}#sk-container-id-4 div.sk-estimator:hover label.sk-toggleable__label-arrow:before {color: black;}#sk-container-id-4 div.sk-toggleable__content {max-height: 0;max-width: 0;overflow: hidden;text-align: left;background-color: #f0f8ff;}#sk-container-id-4 div.sk-toggleable__content pre {margin: 0.2em;color: black;border-radius: 0.25em;background-color: #f0f8ff;}#sk-container-id-4 input.sk-toggleable__control:checked~div.sk-toggleable__content {max-height: 200px;max-width: 100%;overflow: auto;}#sk-container-id-4 input.sk-toggleable__control:checked~label.sk-toggleable__label-arrow:before {content: \"▾\";}#sk-container-id-4 div.sk-estimator input.sk-toggleable__control:checked~label.sk-toggleable__label {background-color: #d4ebff;}#sk-container-id-4 div.sk-label input.sk-toggleable__control:checked~label.sk-toggleable__label {background-color: #d4ebff;}#sk-container-id-4 input.sk-hidden--visually {border: 0;clip: rect(1px 1px 1px 1px);clip: rect(1px, 1px, 1px, 1px);height: 1px;margin: -1px;overflow: hidden;padding: 0;position: absolute;width: 1px;}#sk-container-id-4 div.sk-estimator {font-family: monospace;background-color: #f0f8ff;border: 1px dotted black;border-radius: 0.25em;box-sizing: border-box;margin-bottom: 0.5em;}#sk-container-id-4 div.sk-estimator:hover {background-color: #d4ebff;}#sk-container-id-4 div.sk-parallel-item::after {content: \"\";width: 100%;border-bottom: 1px solid gray;flex-grow: 1;}#sk-container-id-4 div.sk-label:hover label.sk-toggleable__label {background-color: #d4ebff;}#sk-container-id-4 div.sk-serial::before {content: \"\";position: absolute;border-left: 1px solid gray;box-sizing: border-box;top: 0;bottom: 0;left: 50%;z-index: 0;}#sk-container-id-4 div.sk-serial {display: flex;flex-direction: column;align-items: center;background-color: white;padding-right: 0.2em;padding-left: 0.2em;position: relative;}#sk-container-id-4 div.sk-item {position: relative;z-index: 1;}#sk-container-id-4 div.sk-parallel {display: flex;align-items: stretch;justify-content: center;background-color: white;position: relative;}#sk-container-id-4 div.sk-item::before, #sk-container-id-4 div.sk-parallel-item::before {content: \"\";position: absolute;border-left: 1px solid gray;box-sizing: border-box;top: 0;bottom: 0;left: 50%;z-index: -1;}#sk-container-id-4 div.sk-parallel-item {display: flex;flex-direction: column;z-index: 1;position: relative;background-color: white;}#sk-container-id-4 div.sk-parallel-item:first-child::after {align-self: flex-end;width: 50%;}#sk-container-id-4 div.sk-parallel-item:last-child::after {align-self: flex-start;width: 50%;}#sk-container-id-4 div.sk-parallel-item:only-child::after {width: 0;}#sk-container-id-4 div.sk-dashed-wrapped {border: 1px dashed gray;margin: 0 0.4em 0.5em 0.4em;box-sizing: border-box;padding-bottom: 0.4em;background-color: white;}#sk-container-id-4 div.sk-label label {font-family: monospace;font-weight: bold;display: inline-block;line-height: 1.2em;}#sk-container-id-4 div.sk-label-container {text-align: center;}#sk-container-id-4 div.sk-container {/* jupyter's `normalize.less` sets `[hidden] { display: none; }` but bootstrap.min.css set `[hidden] { display: none !important; }` so we also need the `!important` here to be able to override the default hidden behavior on the sphinx rendered scikit-learn.org. See: https://github.com/scikit-learn/scikit-learn/issues/21755 */display: inline-block !important;position: relative;}#sk-container-id-4 div.sk-text-repr-fallback {display: none;}</style><div id=\"sk-container-id-4\" class=\"sk-top-container\"><div class=\"sk-text-repr-fallback\"><pre>KNeighborsRegressor(n_neighbors=6, weights=&#x27;distance&#x27;)</pre><b>In a Jupyter environment, please rerun this cell to show the HTML representation or trust the notebook. <br />On GitHub, the HTML representation is unable to render, please try loading this page with nbviewer.org.</b></div><div class=\"sk-container\" hidden><div class=\"sk-item\"><div class=\"sk-estimator sk-toggleable\"><input class=\"sk-toggleable__control sk-hidden--visually\" id=\"sk-estimator-id-4\" type=\"checkbox\" checked><label for=\"sk-estimator-id-4\" class=\"sk-toggleable__label sk-toggleable__label-arrow\">KNeighborsRegressor</label><div class=\"sk-toggleable__content\"><pre>KNeighborsRegressor(n_neighbors=6, weights=&#x27;distance&#x27;)</pre></div></div></div></div></div>"
            ],
            "text/plain": [
              "KNeighborsRegressor(n_neighbors=6, weights='distance')"
            ]
          },
          "execution_count": 20,
          "metadata": {},
          "output_type": "execute_result"
        }
      ],
      "source": [
        "from sklearn.neighbors import KNeighborsRegressor \n",
        "regressor_knn= KNeighborsRegressor(n_neighbors=6, weights = \"distance\")  \n",
        "regressor_knn.fit(x_train, y_train)  "
      ]
    },
    {
      "cell_type": "code",
      "execution_count": 21,
      "metadata": {
        "id": "W3CS_sOZVU8v"
      },
      "outputs": [],
      "source": [
        "y_pred= regressor_knn.predict(x_test)  "
      ]
    },
    {
      "cell_type": "code",
      "execution_count": 22,
      "metadata": {
        "colab": {
          "base_uri": "https://localhost:8080/"
        },
        "id": "XUYwTHf78AHw",
        "outputId": "7d2d900a-ceea-43d6-9c0a-766457eab806"
      },
      "outputs": [
        {
          "name": "stdout",
          "output_type": "stream",
          "text": [
            "RMSE  30.765291361202642\n",
            "RRMSE  0.4453794548273428\n",
            "RD  1.485465912758358\n",
            "R_SQUARE  0.8016371412176989\n"
          ]
        }
      ],
      "source": [
        "mse = sklearn.metrics.mean_squared_error(y_test, y_pred)\n",
        "rmse = math.sqrt(mse)\n",
        "\n",
        "print(\"RMSE \", rmse);\n",
        "\n",
        "mean_y_test = y_test.mean()\n",
        "# print(mean_y_test)\n",
        "denom = nm.sum(nm.square(y_pred-mean_y_test))\n",
        "# print(denom)\n",
        "numer = nm.sum(nm.square(y_pred-y_test))\n",
        "# print(numer)\n",
        "\n",
        "rrmse = math.sqrt(numer/denom);\n",
        "print(\"RRMSE \", rrmse)\n",
        "\n",
        "rd = sum(abs(y_test-y_pred)/y_test)*100/len(y_test);\n",
        "\n",
        "print(\"RD \" , rd)\n",
        "\n",
        "r_square = 1 - (rrmse*rrmse);\n",
        "print(\"R_SQUARE \", r_square);"
      ]
    },
    {
      "attachments": {},
      "cell_type": "markdown",
      "metadata": {
        "id": "CLsD8_1izzDo"
      },
      "source": [
        "**Training and printing the outputs using the K-Neighbours Regression**"
      ]
    },
    {
      "cell_type": "code",
      "execution_count": 23,
      "metadata": {
        "colab": {
          "base_uri": "https://localhost:8080/",
          "height": 74
        },
        "id": "QOECaOZe8ZKo",
        "outputId": "d0027c70-ab3a-45f5-e4aa-15a5dfddccb7"
      },
      "outputs": [
        {
          "data": {
            "text/html": [
              "<style>#sk-container-id-5 {color: black;background-color: white;}#sk-container-id-5 pre{padding: 0;}#sk-container-id-5 div.sk-toggleable {background-color: white;}#sk-container-id-5 label.sk-toggleable__label {cursor: pointer;display: block;width: 100%;margin-bottom: 0;padding: 0.3em;box-sizing: border-box;text-align: center;}#sk-container-id-5 label.sk-toggleable__label-arrow:before {content: \"▸\";float: left;margin-right: 0.25em;color: #696969;}#sk-container-id-5 label.sk-toggleable__label-arrow:hover:before {color: black;}#sk-container-id-5 div.sk-estimator:hover label.sk-toggleable__label-arrow:before {color: black;}#sk-container-id-5 div.sk-toggleable__content {max-height: 0;max-width: 0;overflow: hidden;text-align: left;background-color: #f0f8ff;}#sk-container-id-5 div.sk-toggleable__content pre {margin: 0.2em;color: black;border-radius: 0.25em;background-color: #f0f8ff;}#sk-container-id-5 input.sk-toggleable__control:checked~div.sk-toggleable__content {max-height: 200px;max-width: 100%;overflow: auto;}#sk-container-id-5 input.sk-toggleable__control:checked~label.sk-toggleable__label-arrow:before {content: \"▾\";}#sk-container-id-5 div.sk-estimator input.sk-toggleable__control:checked~label.sk-toggleable__label {background-color: #d4ebff;}#sk-container-id-5 div.sk-label input.sk-toggleable__control:checked~label.sk-toggleable__label {background-color: #d4ebff;}#sk-container-id-5 input.sk-hidden--visually {border: 0;clip: rect(1px 1px 1px 1px);clip: rect(1px, 1px, 1px, 1px);height: 1px;margin: -1px;overflow: hidden;padding: 0;position: absolute;width: 1px;}#sk-container-id-5 div.sk-estimator {font-family: monospace;background-color: #f0f8ff;border: 1px dotted black;border-radius: 0.25em;box-sizing: border-box;margin-bottom: 0.5em;}#sk-container-id-5 div.sk-estimator:hover {background-color: #d4ebff;}#sk-container-id-5 div.sk-parallel-item::after {content: \"\";width: 100%;border-bottom: 1px solid gray;flex-grow: 1;}#sk-container-id-5 div.sk-label:hover label.sk-toggleable__label {background-color: #d4ebff;}#sk-container-id-5 div.sk-serial::before {content: \"\";position: absolute;border-left: 1px solid gray;box-sizing: border-box;top: 0;bottom: 0;left: 50%;z-index: 0;}#sk-container-id-5 div.sk-serial {display: flex;flex-direction: column;align-items: center;background-color: white;padding-right: 0.2em;padding-left: 0.2em;position: relative;}#sk-container-id-5 div.sk-item {position: relative;z-index: 1;}#sk-container-id-5 div.sk-parallel {display: flex;align-items: stretch;justify-content: center;background-color: white;position: relative;}#sk-container-id-5 div.sk-item::before, #sk-container-id-5 div.sk-parallel-item::before {content: \"\";position: absolute;border-left: 1px solid gray;box-sizing: border-box;top: 0;bottom: 0;left: 50%;z-index: -1;}#sk-container-id-5 div.sk-parallel-item {display: flex;flex-direction: column;z-index: 1;position: relative;background-color: white;}#sk-container-id-5 div.sk-parallel-item:first-child::after {align-self: flex-end;width: 50%;}#sk-container-id-5 div.sk-parallel-item:last-child::after {align-self: flex-start;width: 50%;}#sk-container-id-5 div.sk-parallel-item:only-child::after {width: 0;}#sk-container-id-5 div.sk-dashed-wrapped {border: 1px dashed gray;margin: 0 0.4em 0.5em 0.4em;box-sizing: border-box;padding-bottom: 0.4em;background-color: white;}#sk-container-id-5 div.sk-label label {font-family: monospace;font-weight: bold;display: inline-block;line-height: 1.2em;}#sk-container-id-5 div.sk-label-container {text-align: center;}#sk-container-id-5 div.sk-container {/* jupyter's `normalize.less` sets `[hidden] { display: none; }` but bootstrap.min.css set `[hidden] { display: none !important; }` so we also need the `!important` here to be able to override the default hidden behavior on the sphinx rendered scikit-learn.org. See: https://github.com/scikit-learn/scikit-learn/issues/21755 */display: inline-block !important;position: relative;}#sk-container-id-5 div.sk-text-repr-fallback {display: none;}</style><div id=\"sk-container-id-5\" class=\"sk-top-container\"><div class=\"sk-text-repr-fallback\"><pre>RandomForestRegressor(max_features=&#x27;sqrt&#x27;, n_estimators=933)</pre><b>In a Jupyter environment, please rerun this cell to show the HTML representation or trust the notebook. <br />On GitHub, the HTML representation is unable to render, please try loading this page with nbviewer.org.</b></div><div class=\"sk-container\" hidden><div class=\"sk-item\"><div class=\"sk-estimator sk-toggleable\"><input class=\"sk-toggleable__control sk-hidden--visually\" id=\"sk-estimator-id-5\" type=\"checkbox\" checked><label for=\"sk-estimator-id-5\" class=\"sk-toggleable__label sk-toggleable__label-arrow\">RandomForestRegressor</label><div class=\"sk-toggleable__content\"><pre>RandomForestRegressor(max_features=&#x27;sqrt&#x27;, n_estimators=933)</pre></div></div></div></div></div>"
            ],
            "text/plain": [
              "RandomForestRegressor(max_features='sqrt', n_estimators=933)"
            ]
          },
          "execution_count": 23,
          "metadata": {},
          "output_type": "execute_result"
        }
      ],
      "source": [
        "from sklearn.ensemble import RandomForestRegressor\n",
        "  \n",
        " # create regressor object\n",
        "regressor_rf = RandomForestRegressor(n_estimators = 933, max_features = \"sqrt\")\n",
        "  \n",
        "# fit the regressor with x and y data\n",
        "regressor_rf.fit(x_train, y_train) "
      ]
    },
    {
      "cell_type": "code",
      "execution_count": 24,
      "metadata": {
        "id": "uL_b26m1shQd"
      },
      "outputs": [],
      "source": [
        "y_pred = regressor_rf.predict(x_test)"
      ]
    },
    {
      "cell_type": "code",
      "execution_count": 25,
      "metadata": {
        "colab": {
          "base_uri": "https://localhost:8080/"
        },
        "id": "fDN8TA60sh-Q",
        "outputId": "c7ab7225-4c3f-49c1-d48f-5a238b2d7dfc"
      },
      "outputs": [
        {
          "name": "stdout",
          "output_type": "stream",
          "text": [
            "RMSE  33.65512781106126\n",
            "RRMSE  0.49255615517038975\n",
            "RD  1.59618569735531\n",
            "R_SQUARE  0.7573884340037629\n"
          ]
        }
      ],
      "source": [
        "mse = sklearn.metrics.mean_squared_error(y_test, y_pred)\n",
        "rmse = math.sqrt(mse)\n",
        "\n",
        "print(\"RMSE \", rmse);\n",
        "\n",
        "mean_y_test = y_test.mean()\n",
        "# print(mean_y_test)\n",
        "denom = nm.sum(nm.square(y_pred-mean_y_test))\n",
        "# print(denom)\n",
        "numer = nm.sum(nm.square(y_pred-y_test))\n",
        "# print(numer)\n",
        "\n",
        "rrmse = math.sqrt(numer/denom);\n",
        "print(\"RRMSE \", rrmse)\n",
        "\n",
        "rd = sum(abs(y_test-y_pred)/y_test)*100/len(y_test);\n",
        "\n",
        "print(\"RD \" , rd)\n",
        "\n",
        "r_square = 1 - (rrmse*rrmse);\n",
        "print(\"R_SQUARE \", r_square);"
      ]
    },
    {
      "attachments": {},
      "cell_type": "markdown",
      "metadata": {
        "id": "sRom-oEWuma-"
      },
      "source": [
        "# Meta Model I\n",
        "\n"
      ]
    },
    {
      "cell_type": "code",
      "execution_count": 26,
      "metadata": {
        "colab": {
          "base_uri": "https://localhost:8080/"
        },
        "id": "uKXJpaNqumCC",
        "outputId": "f7f2dfe5-dd5a-41b5-fe65-14cd6db7b1eb"
      },
      "outputs": [
        {
          "name": "stdout",
          "output_type": "stream",
          "text": [
            "[0.0056243  0.         0.0056243  0.62429699 0.00843645 0.\n",
            " 0.00618673 0.         0.1631046  0.         0.         0.\n",
            " 0.         0.         0.         0.         0.         0.\n",
            " 0.         0.         0.02671541 0.         0.         0.\n",
            " 0.         0.         0.         0.         0.         0.\n",
            " 0.         0.         0.         0.         0.         0.\n",
            " 0.         0.1574803  0.         0.         0.         0.\n",
            " 0.         0.         0.         0.         0.         0.\n",
            " 0.         0.         0.         0.         0.         0.\n",
            " 0.         0.         0.         0.         0.00253093 0.\n",
            " 0.         0.         0.         0.         0.        ]\n",
            "561.15\n"
          ]
        }
      ],
      "source": [
        "data_set= pd.read_csv('1-s2.0-S1359645420300720-mmc1.csv')  \n",
        "\n",
        "\n",
        "x= data_set.iloc[:, 1:66].values  \n",
        "y= data_set.iloc[:, 66].values  \n",
        "\n",
        "x_train, x_test, y_train, y_test= train_test_split(x, y, test_size= 0.25, random_state=0)  \n",
        "print(x_train[1])\n",
        "print(y_train[1])\n"
      ]
    },
    {
      "cell_type": "code",
      "execution_count": 28,
      "metadata": {
        "id": "_WnYe6arx6Km"
      },
      "outputs": [],
      "source": [
        "from numpy import mean\n",
        "from numpy import std\n",
        "from sklearn.datasets import make_classification\n",
        "from sklearn.model_selection import cross_val_score\n",
        "from sklearn.model_selection import RepeatedStratifiedKFold\n",
        "from sklearn.linear_model import LogisticRegression\n",
        "from sklearn.neighbors import KNeighborsRegressor\n",
        "from sklearn.tree import DecisionTreeRegressor\n",
        "from sklearn.ensemble import RandomForestRegressor, AdaBoostRegressor\n",
        "from sklearn.datasets import make_regression\n",
        "from sklearn.ensemble import GradientBoostingRegressor\n",
        "from sklearn.model_selection import train_test_split\n",
        "from sklearn.svm import SVC\n",
        "from sklearn.naive_bayes import GaussianNB\n",
        "from sklearn.ensemble import StackingClassifier\n",
        "from matplotlib import pyplot\n",
        "\n",
        "from sklearn.metrics import f1_score\n",
        "from sklearn.model_selection import train_test_split\n",
        "from sklearn.preprocessing import StandardScaler\n",
        "\n",
        "\n",
        "from matplotlib import pyplot as pl\n",
        "from scipy.stats import sem\n",
        "\n",
        "import pandas as pd\n",
        "import numpy as np\n",
        "\n",
        "import pickle\n",
        "import random\n",
        "\n",
        "import sys\n",
        "import os\n",
        "\n",
        "from sklearn.datasets import make_regression\n",
        "from sklearn.linear_model import LinearRegression\n",
        "from sklearn.neighbors import KNeighborsRegressor\n",
        "from sklearn.tree import DecisionTreeRegressor\n",
        "from sklearn.svm import SVR\n",
        "from sklearn.ensemble import StackingRegressor"
      ]
    },
    {
      "cell_type": "code",
      "execution_count": 29,
      "metadata": {
        "id": "Qq_qtxJzz8JC"
      },
      "outputs": [],
      "source": [
        "from sklearn.linear_model import LogisticRegression\n",
        "\n",
        "level0 = list()\n",
        "\n",
        "# level0.append(('lr', LogisticRegressor()))\n",
        "# level0.append(('knn', KNeighborsRegressor()))\n",
        "# level0.append(('cart', DecisionTreeRegressor()))\n",
        "# level0.append(('svm', SVR()))\n",
        "# level0.append(('bayes', GaussianNB()))\n",
        "level0.append(('rf',RandomForestRegressor(n_estimators = 933, max_features = \"sqrt\")))\n",
        "# level0.append(('ada', AdaBoostRegressor()))\n",
        "\n"
      ]
    },
    {
      "cell_type": "code",
      "execution_count": 30,
      "metadata": {
        "id": "iWS1Ng1PDitk"
      },
      "outputs": [],
      "source": [
        "# define meta learner model\n",
        "level1 = KNeighborsRegressor()\n",
        "# define the stacking ensemble\n",
        "model = StackingRegressor(estimators=level0, final_estimator=level1, cv=5)"
      ]
    },
    {
      "cell_type": "code",
      "execution_count": 31,
      "metadata": {
        "id": "GNyfNtNuxo5Y"
      },
      "outputs": [
        {
          "data": {
            "text/html": [
              "<style>#sk-container-id-6 {color: black;background-color: white;}#sk-container-id-6 pre{padding: 0;}#sk-container-id-6 div.sk-toggleable {background-color: white;}#sk-container-id-6 label.sk-toggleable__label {cursor: pointer;display: block;width: 100%;margin-bottom: 0;padding: 0.3em;box-sizing: border-box;text-align: center;}#sk-container-id-6 label.sk-toggleable__label-arrow:before {content: \"▸\";float: left;margin-right: 0.25em;color: #696969;}#sk-container-id-6 label.sk-toggleable__label-arrow:hover:before {color: black;}#sk-container-id-6 div.sk-estimator:hover label.sk-toggleable__label-arrow:before {color: black;}#sk-container-id-6 div.sk-toggleable__content {max-height: 0;max-width: 0;overflow: hidden;text-align: left;background-color: #f0f8ff;}#sk-container-id-6 div.sk-toggleable__content pre {margin: 0.2em;color: black;border-radius: 0.25em;background-color: #f0f8ff;}#sk-container-id-6 input.sk-toggleable__control:checked~div.sk-toggleable__content {max-height: 200px;max-width: 100%;overflow: auto;}#sk-container-id-6 input.sk-toggleable__control:checked~label.sk-toggleable__label-arrow:before {content: \"▾\";}#sk-container-id-6 div.sk-estimator input.sk-toggleable__control:checked~label.sk-toggleable__label {background-color: #d4ebff;}#sk-container-id-6 div.sk-label input.sk-toggleable__control:checked~label.sk-toggleable__label {background-color: #d4ebff;}#sk-container-id-6 input.sk-hidden--visually {border: 0;clip: rect(1px 1px 1px 1px);clip: rect(1px, 1px, 1px, 1px);height: 1px;margin: -1px;overflow: hidden;padding: 0;position: absolute;width: 1px;}#sk-container-id-6 div.sk-estimator {font-family: monospace;background-color: #f0f8ff;border: 1px dotted black;border-radius: 0.25em;box-sizing: border-box;margin-bottom: 0.5em;}#sk-container-id-6 div.sk-estimator:hover {background-color: #d4ebff;}#sk-container-id-6 div.sk-parallel-item::after {content: \"\";width: 100%;border-bottom: 1px solid gray;flex-grow: 1;}#sk-container-id-6 div.sk-label:hover label.sk-toggleable__label {background-color: #d4ebff;}#sk-container-id-6 div.sk-serial::before {content: \"\";position: absolute;border-left: 1px solid gray;box-sizing: border-box;top: 0;bottom: 0;left: 50%;z-index: 0;}#sk-container-id-6 div.sk-serial {display: flex;flex-direction: column;align-items: center;background-color: white;padding-right: 0.2em;padding-left: 0.2em;position: relative;}#sk-container-id-6 div.sk-item {position: relative;z-index: 1;}#sk-container-id-6 div.sk-parallel {display: flex;align-items: stretch;justify-content: center;background-color: white;position: relative;}#sk-container-id-6 div.sk-item::before, #sk-container-id-6 div.sk-parallel-item::before {content: \"\";position: absolute;border-left: 1px solid gray;box-sizing: border-box;top: 0;bottom: 0;left: 50%;z-index: -1;}#sk-container-id-6 div.sk-parallel-item {display: flex;flex-direction: column;z-index: 1;position: relative;background-color: white;}#sk-container-id-6 div.sk-parallel-item:first-child::after {align-self: flex-end;width: 50%;}#sk-container-id-6 div.sk-parallel-item:last-child::after {align-self: flex-start;width: 50%;}#sk-container-id-6 div.sk-parallel-item:only-child::after {width: 0;}#sk-container-id-6 div.sk-dashed-wrapped {border: 1px dashed gray;margin: 0 0.4em 0.5em 0.4em;box-sizing: border-box;padding-bottom: 0.4em;background-color: white;}#sk-container-id-6 div.sk-label label {font-family: monospace;font-weight: bold;display: inline-block;line-height: 1.2em;}#sk-container-id-6 div.sk-label-container {text-align: center;}#sk-container-id-6 div.sk-container {/* jupyter's `normalize.less` sets `[hidden] { display: none; }` but bootstrap.min.css set `[hidden] { display: none !important; }` so we also need the `!important` here to be able to override the default hidden behavior on the sphinx rendered scikit-learn.org. See: https://github.com/scikit-learn/scikit-learn/issues/21755 */display: inline-block !important;position: relative;}#sk-container-id-6 div.sk-text-repr-fallback {display: none;}</style><div id=\"sk-container-id-6\" class=\"sk-top-container\"><div class=\"sk-text-repr-fallback\"><pre>StackingRegressor(cv=5,\n",
              "                  estimators=[(&#x27;rf&#x27;,\n",
              "                               RandomForestRegressor(max_features=&#x27;sqrt&#x27;,\n",
              "                                                     n_estimators=933))],\n",
              "                  final_estimator=KNeighborsRegressor())</pre><b>In a Jupyter environment, please rerun this cell to show the HTML representation or trust the notebook. <br />On GitHub, the HTML representation is unable to render, please try loading this page with nbviewer.org.</b></div><div class=\"sk-container\" hidden><div class=\"sk-item sk-dashed-wrapped\"><div class=\"sk-label-container\"><div class=\"sk-label sk-toggleable\"><input class=\"sk-toggleable__control sk-hidden--visually\" id=\"sk-estimator-id-6\" type=\"checkbox\" ><label for=\"sk-estimator-id-6\" class=\"sk-toggleable__label sk-toggleable__label-arrow\">StackingRegressor</label><div class=\"sk-toggleable__content\"><pre>StackingRegressor(cv=5,\n",
              "                  estimators=[(&#x27;rf&#x27;,\n",
              "                               RandomForestRegressor(max_features=&#x27;sqrt&#x27;,\n",
              "                                                     n_estimators=933))],\n",
              "                  final_estimator=KNeighborsRegressor())</pre></div></div></div><div class=\"sk-serial\"><div class=\"sk-item\"><div class=\"sk-parallel\"><div class=\"sk-parallel-item\"><div class=\"sk-item\"><div class=\"sk-label-container\"><div class=\"sk-label sk-toggleable\"><label>rf</label></div></div><div class=\"sk-serial\"><div class=\"sk-item\"><div class=\"sk-estimator sk-toggleable\"><input class=\"sk-toggleable__control sk-hidden--visually\" id=\"sk-estimator-id-7\" type=\"checkbox\" ><label for=\"sk-estimator-id-7\" class=\"sk-toggleable__label sk-toggleable__label-arrow\">RandomForestRegressor</label><div class=\"sk-toggleable__content\"><pre>RandomForestRegressor(max_features=&#x27;sqrt&#x27;, n_estimators=933)</pre></div></div></div></div></div></div></div></div><div class=\"sk-item\"><div class=\"sk-parallel\"><div class=\"sk-parallel-item\"><div class=\"sk-item\"><div class=\"sk-label-container\"><div class=\"sk-label sk-toggleable\"><label>final_estimator</label></div></div><div class=\"sk-serial\"><div class=\"sk-item\"><div class=\"sk-estimator sk-toggleable\"><input class=\"sk-toggleable__control sk-hidden--visually\" id=\"sk-estimator-id-8\" type=\"checkbox\" ><label for=\"sk-estimator-id-8\" class=\"sk-toggleable__label sk-toggleable__label-arrow\">KNeighborsRegressor</label><div class=\"sk-toggleable__content\"><pre>KNeighborsRegressor()</pre></div></div></div></div></div></div></div></div></div></div></div></div>"
            ],
            "text/plain": [
              "StackingRegressor(cv=5,\n",
              "                  estimators=[('rf',\n",
              "                               RandomForestRegressor(max_features='sqrt',\n",
              "                                                     n_estimators=933))],\n",
              "                  final_estimator=KNeighborsRegressor())"
            ]
          },
          "execution_count": 31,
          "metadata": {},
          "output_type": "execute_result"
        }
      ],
      "source": [
        "model.fit(x_train, y_train)"
      ]
    },
    {
      "cell_type": "code",
      "execution_count": 32,
      "metadata": {
        "colab": {
          "base_uri": "https://localhost:8080/"
        },
        "id": "RtQRNBDgCuOa",
        "outputId": "37fa9630-a5d1-4f3f-b8a0-26316e9b8bf7"
      },
      "outputs": [
        {
          "name": "stdout",
          "output_type": "stream",
          "text": [
            "[573.35 540.15 819.95 ... 926.15 914.75 537.15]\n",
            "38250\n"
          ]
        }
      ],
      "source": [
        "y_pred = model.predict(x_train)\n",
        "print(y_pred)\n",
        "print(len(y_pred))"
      ]
    },
    {
      "cell_type": "code",
      "execution_count": 33,
      "metadata": {
        "colab": {
          "base_uri": "https://localhost:8080/"
        },
        "id": "77gIKMYKCwH3",
        "outputId": "7f52ec22-4185-4819-cd09-768f1bfd0fc0"
      },
      "outputs": [
        {
          "name": "stdout",
          "output_type": "stream",
          "text": [
            "[813.95 820.75 907.75 ... 792.75 837.75 646.75]\n",
            "12750\n"
          ]
        }
      ],
      "source": [
        "y_pred1 = model.predict(x_test)\n",
        "print(y_pred1)\n",
        "print(len(y_pred1))"
      ]
    },
    {
      "cell_type": "code",
      "execution_count": 34,
      "metadata": {
        "colab": {
          "base_uri": "https://localhost:8080/"
        },
        "id": "P7NtnVU1Cybe",
        "outputId": "08aaeecf-c0da-440b-e5b2-b3b42b1ee66a"
      },
      "outputs": [
        {
          "name": "stdout",
          "output_type": "stream",
          "text": [
            "R_Square: 0.9845241876702696\n"
          ]
        }
      ],
      "source": [
        "from sklearn.metrics import r2_score\n",
        "score = r2_score(y_train, y_pred)\n",
        "print(\"R_Square:\",score)"
      ]
    },
    {
      "attachments": {},
      "cell_type": "markdown",
      "metadata": {
        "id": "0oMZ4bG-_9Tr"
      },
      "source": [
        "# Meta Model II"
      ]
    },
    {
      "cell_type": "code",
      "execution_count": 35,
      "metadata": {
        "colab": {
          "base_uri": "https://localhost:8080/"
        },
        "id": "35mHv-M9ABnq",
        "outputId": "cc85e428-2515-470e-f658-21baced3cbea"
      },
      "outputs": [
        {
          "name": "stdout",
          "output_type": "stream",
          "text": [
            "[0.0056243  0.         0.0056243  0.62429699 0.00843645 0.\n",
            " 0.00618673 0.         0.1631046  0.         0.         0.\n",
            " 0.         0.         0.         0.         0.         0.\n",
            " 0.         0.         0.02671541 0.         0.         0.\n",
            " 0.         0.         0.         0.         0.         0.\n",
            " 0.         0.         0.         0.         0.         0.\n",
            " 0.         0.1574803  0.         0.         0.         0.\n",
            " 0.         0.         0.         0.         0.         0.\n",
            " 0.         0.         0.         0.         0.         0.\n",
            " 0.         0.         0.         0.         0.00253093 0.\n",
            " 0.         0.         0.         0.         0.        ]\n",
            "561.15\n"
          ]
        }
      ],
      "source": [
        "data_set= pd.read_csv('1-s2.0-S1359645420300720-mmc1.csv')  \n",
        "\n",
        "\n",
        "x= data_set.iloc[:, 1:66].values  \n",
        "y= data_set.iloc[:, 66].values  \n",
        "\n",
        "x_train, x_test, y_train, y_test= train_test_split(x, y, test_size= 0.25, random_state=0)  \n",
        "print(x_train[1])\n",
        "print(y_train[1])"
      ]
    },
    {
      "cell_type": "code",
      "execution_count": 36,
      "metadata": {
        "id": "deYSsRhwAHhw"
      },
      "outputs": [],
      "source": [
        "from sklearn.linear_model import LogisticRegression\n",
        "\n",
        "level0 = list()\n",
        "\n",
        "# level0.append(('lr', LogisticRegressor()))\n",
        "# level0.append(('knn', KNeighborsRegressor()))\n",
        "level0.append(('cart', DecisionTreeRegressor()))\n",
        "# level0.append(('svm', SVR()))\n",
        "# level0.append(('bayes', GaussianNB()))\n",
        "# level0.append(('rf',RandomForestRegressor(n_estimators = 1000, random_state = 42)))\n",
        "# level0.append(('ada', AdaBoostRegressor()))"
      ]
    },
    {
      "cell_type": "code",
      "execution_count": 37,
      "metadata": {
        "id": "MAMPhdsnAN70"
      },
      "outputs": [],
      "source": [
        "# define meta learner model\n",
        "level1 = KNeighborsRegressor()\n",
        "# define the stacking ensemble\n",
        "model = StackingRegressor(estimators=level0, final_estimator=level1, cv=5)"
      ]
    },
    {
      "cell_type": "code",
      "execution_count": 38,
      "metadata": {
        "colab": {
          "base_uri": "https://localhost:8080/",
          "height": 162
        },
        "id": "VC4zo296ARNh",
        "outputId": "32a4dc8b-7a37-4355-d5e7-dedf16ee7b03"
      },
      "outputs": [
        {
          "data": {
            "text/html": [
              "<style>#sk-container-id-7 {color: black;background-color: white;}#sk-container-id-7 pre{padding: 0;}#sk-container-id-7 div.sk-toggleable {background-color: white;}#sk-container-id-7 label.sk-toggleable__label {cursor: pointer;display: block;width: 100%;margin-bottom: 0;padding: 0.3em;box-sizing: border-box;text-align: center;}#sk-container-id-7 label.sk-toggleable__label-arrow:before {content: \"▸\";float: left;margin-right: 0.25em;color: #696969;}#sk-container-id-7 label.sk-toggleable__label-arrow:hover:before {color: black;}#sk-container-id-7 div.sk-estimator:hover label.sk-toggleable__label-arrow:before {color: black;}#sk-container-id-7 div.sk-toggleable__content {max-height: 0;max-width: 0;overflow: hidden;text-align: left;background-color: #f0f8ff;}#sk-container-id-7 div.sk-toggleable__content pre {margin: 0.2em;color: black;border-radius: 0.25em;background-color: #f0f8ff;}#sk-container-id-7 input.sk-toggleable__control:checked~div.sk-toggleable__content {max-height: 200px;max-width: 100%;overflow: auto;}#sk-container-id-7 input.sk-toggleable__control:checked~label.sk-toggleable__label-arrow:before {content: \"▾\";}#sk-container-id-7 div.sk-estimator input.sk-toggleable__control:checked~label.sk-toggleable__label {background-color: #d4ebff;}#sk-container-id-7 div.sk-label input.sk-toggleable__control:checked~label.sk-toggleable__label {background-color: #d4ebff;}#sk-container-id-7 input.sk-hidden--visually {border: 0;clip: rect(1px 1px 1px 1px);clip: rect(1px, 1px, 1px, 1px);height: 1px;margin: -1px;overflow: hidden;padding: 0;position: absolute;width: 1px;}#sk-container-id-7 div.sk-estimator {font-family: monospace;background-color: #f0f8ff;border: 1px dotted black;border-radius: 0.25em;box-sizing: border-box;margin-bottom: 0.5em;}#sk-container-id-7 div.sk-estimator:hover {background-color: #d4ebff;}#sk-container-id-7 div.sk-parallel-item::after {content: \"\";width: 100%;border-bottom: 1px solid gray;flex-grow: 1;}#sk-container-id-7 div.sk-label:hover label.sk-toggleable__label {background-color: #d4ebff;}#sk-container-id-7 div.sk-serial::before {content: \"\";position: absolute;border-left: 1px solid gray;box-sizing: border-box;top: 0;bottom: 0;left: 50%;z-index: 0;}#sk-container-id-7 div.sk-serial {display: flex;flex-direction: column;align-items: center;background-color: white;padding-right: 0.2em;padding-left: 0.2em;position: relative;}#sk-container-id-7 div.sk-item {position: relative;z-index: 1;}#sk-container-id-7 div.sk-parallel {display: flex;align-items: stretch;justify-content: center;background-color: white;position: relative;}#sk-container-id-7 div.sk-item::before, #sk-container-id-7 div.sk-parallel-item::before {content: \"\";position: absolute;border-left: 1px solid gray;box-sizing: border-box;top: 0;bottom: 0;left: 50%;z-index: -1;}#sk-container-id-7 div.sk-parallel-item {display: flex;flex-direction: column;z-index: 1;position: relative;background-color: white;}#sk-container-id-7 div.sk-parallel-item:first-child::after {align-self: flex-end;width: 50%;}#sk-container-id-7 div.sk-parallel-item:last-child::after {align-self: flex-start;width: 50%;}#sk-container-id-7 div.sk-parallel-item:only-child::after {width: 0;}#sk-container-id-7 div.sk-dashed-wrapped {border: 1px dashed gray;margin: 0 0.4em 0.5em 0.4em;box-sizing: border-box;padding-bottom: 0.4em;background-color: white;}#sk-container-id-7 div.sk-label label {font-family: monospace;font-weight: bold;display: inline-block;line-height: 1.2em;}#sk-container-id-7 div.sk-label-container {text-align: center;}#sk-container-id-7 div.sk-container {/* jupyter's `normalize.less` sets `[hidden] { display: none; }` but bootstrap.min.css set `[hidden] { display: none !important; }` so we also need the `!important` here to be able to override the default hidden behavior on the sphinx rendered scikit-learn.org. See: https://github.com/scikit-learn/scikit-learn/issues/21755 */display: inline-block !important;position: relative;}#sk-container-id-7 div.sk-text-repr-fallback {display: none;}</style><div id=\"sk-container-id-7\" class=\"sk-top-container\"><div class=\"sk-text-repr-fallback\"><pre>StackingRegressor(cv=5, estimators=[(&#x27;cart&#x27;, DecisionTreeRegressor())],\n",
              "                  final_estimator=KNeighborsRegressor())</pre><b>In a Jupyter environment, please rerun this cell to show the HTML representation or trust the notebook. <br />On GitHub, the HTML representation is unable to render, please try loading this page with nbviewer.org.</b></div><div class=\"sk-container\" hidden><div class=\"sk-item sk-dashed-wrapped\"><div class=\"sk-label-container\"><div class=\"sk-label sk-toggleable\"><input class=\"sk-toggleable__control sk-hidden--visually\" id=\"sk-estimator-id-9\" type=\"checkbox\" ><label for=\"sk-estimator-id-9\" class=\"sk-toggleable__label sk-toggleable__label-arrow\">StackingRegressor</label><div class=\"sk-toggleable__content\"><pre>StackingRegressor(cv=5, estimators=[(&#x27;cart&#x27;, DecisionTreeRegressor())],\n",
              "                  final_estimator=KNeighborsRegressor())</pre></div></div></div><div class=\"sk-serial\"><div class=\"sk-item\"><div class=\"sk-parallel\"><div class=\"sk-parallel-item\"><div class=\"sk-item\"><div class=\"sk-label-container\"><div class=\"sk-label sk-toggleable\"><label>cart</label></div></div><div class=\"sk-serial\"><div class=\"sk-item\"><div class=\"sk-estimator sk-toggleable\"><input class=\"sk-toggleable__control sk-hidden--visually\" id=\"sk-estimator-id-10\" type=\"checkbox\" ><label for=\"sk-estimator-id-10\" class=\"sk-toggleable__label sk-toggleable__label-arrow\">DecisionTreeRegressor</label><div class=\"sk-toggleable__content\"><pre>DecisionTreeRegressor()</pre></div></div></div></div></div></div></div></div><div class=\"sk-item\"><div class=\"sk-parallel\"><div class=\"sk-parallel-item\"><div class=\"sk-item\"><div class=\"sk-label-container\"><div class=\"sk-label sk-toggleable\"><label>final_estimator</label></div></div><div class=\"sk-serial\"><div class=\"sk-item\"><div class=\"sk-estimator sk-toggleable\"><input class=\"sk-toggleable__control sk-hidden--visually\" id=\"sk-estimator-id-11\" type=\"checkbox\" ><label for=\"sk-estimator-id-11\" class=\"sk-toggleable__label sk-toggleable__label-arrow\">KNeighborsRegressor</label><div class=\"sk-toggleable__content\"><pre>KNeighborsRegressor()</pre></div></div></div></div></div></div></div></div></div></div></div></div>"
            ],
            "text/plain": [
              "StackingRegressor(cv=5, estimators=[('cart', DecisionTreeRegressor())],\n",
              "                  final_estimator=KNeighborsRegressor())"
            ]
          },
          "execution_count": 38,
          "metadata": {},
          "output_type": "execute_result"
        }
      ],
      "source": [
        "model.fit(x_train, y_train)"
      ]
    },
    {
      "cell_type": "code",
      "execution_count": 39,
      "metadata": {
        "colab": {
          "base_uri": "https://localhost:8080/"
        },
        "id": "h0iZ0fvfAVdH",
        "outputId": "c9ff5bc3-6d84-45dd-c8ff-7d61c7892071"
      },
      "outputs": [
        {
          "name": "stdout",
          "output_type": "stream",
          "text": [
            "[580.55 640.95 806.75 ... 931.75 927.75 547.35]\n",
            "38250\n"
          ]
        }
      ],
      "source": [
        "y_pred = model.predict(x_train)\n",
        "print(y_pred)\n",
        "print(len(y_pred))"
      ]
    },
    {
      "cell_type": "code",
      "execution_count": 40,
      "metadata": {
        "colab": {
          "base_uri": "https://localhost:8080/"
        },
        "id": "P21vR2FnAWz6",
        "outputId": "9a9829c6-7c0b-48e2-f74b-512176b15f18"
      },
      "outputs": [
        {
          "name": "stdout",
          "output_type": "stream",
          "text": [
            "[794.35 741.95 933.75 ... 785.95 874.95 643.35]\n",
            "12750\n"
          ]
        }
      ],
      "source": [
        "y_pred1 = model.predict(x_test)\n",
        "print(y_pred1)\n",
        "print(len(y_pred1))"
      ]
    },
    {
      "cell_type": "code",
      "execution_count": 41,
      "metadata": {
        "colab": {
          "base_uri": "https://localhost:8080/"
        },
        "id": "cjHd4e3xAZF8",
        "outputId": "5c11e1e5-54aa-44a6-f50d-0faa5ec86017"
      },
      "outputs": [
        {
          "name": "stdout",
          "output_type": "stream",
          "text": [
            "R_Square: 0.9783482541852015\n"
          ]
        }
      ],
      "source": [
        "from sklearn.metrics import r2_score\n",
        "score = r2_score(y_train, y_pred)\n",
        "print(\"R_Square:\",score)"
      ]
    }
  ],
  "metadata": {
    "colab": {
      "provenance": []
    },
    "kernelspec": {
      "display_name": "Python 3",
      "name": "python3"
    },
    "language_info": {
      "codemirror_mode": {
        "name": "ipython",
        "version": 3
      },
      "file_extension": ".py",
      "mimetype": "text/x-python",
      "name": "python",
      "nbconvert_exporter": "python",
      "pygments_lexer": "ipython3",
      "version": "3.10.4"
    }
  },
  "nbformat": 4,
  "nbformat_minor": 0
}
