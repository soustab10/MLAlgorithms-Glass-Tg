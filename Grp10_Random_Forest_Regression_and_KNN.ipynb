{
  "nbformat": 4,
  "nbformat_minor": 0,
  "metadata": {
    "colab": {
      "provenance": []
    },
    "kernelspec": {
      "name": "python3",
      "display_name": "Python 3"
    },
    "language_info": {
      "name": "python"
    }
  },
  "cells": [
    {
      "cell_type": "markdown",
      "source": [
        "# Testing the best Algorithms for Predicting Glass Transition Temperatures\n",
        "\n",
        "1. K-NN\n",
        "2. Random Forest Regression"
      ],
      "metadata": {
        "id": "AcEel9A782v3"
      }
    },
    {
      "cell_type": "markdown",
      "source": [
        "### Importing and Analysing the Given Dataset"
      ],
      "metadata": {
        "id": "mUVs-fvA4xWZ"
      }
    },
    {
      "cell_type": "code",
      "execution_count": null,
      "metadata": {
        "id": "3mc6Ycj53-j9"
      },
      "outputs": [],
      "source": [
        "import numpy as nm  \n",
        "import matplotlib.pyplot as plt  \n",
        "%matplotlib inline\n",
        "import pandas as pd  \n",
        "import math  \n",
        "import sklearn.metrics  \n",
        "from sklearn.model_selection import train_test_split  "
      ]
    },
    {
      "cell_type": "markdown",
      "source": [
        "Reading data from file and splitting the dataset into training and test datasets."
      ],
      "metadata": {
        "id": "kfIlRIZI9y9_"
      }
    },
    {
      "cell_type": "code",
      "source": [
        "data_set= pd.read_csv('1-s2.0-S1359645420300720-mmc1.csv')  \n",
        "\n",
        "print(data_set.head(1));\n",
        "\n",
        "x= data_set.iloc[:, 1:66].values  \n",
        "y= data_set.iloc[:, 66].values  \n",
        " \n"
      ],
      "metadata": {
        "colab": {
          "base_uri": "https://localhost:8080/"
        },
        "id": "Zv4jdolr9yFk",
        "outputId": "2e34eae8-7e66-45a6-a904-91f603db1e4d"
      },
      "execution_count": null,
      "outputs": [
        {
          "output_type": "stream",
          "name": "stdout",
          "text": [
            "             ID   Li   Be         B         O   Na        Mg        Al  \\\n",
            "0  478474_40951  0.0  0.0  0.099699  0.628564  0.0  0.008412  0.052889   \n",
            "\n",
            "         Si    P  ...   Hf   Ta    W   Hg   Tl   Pb   Bi   Th    U      Tg  \n",
            "0  0.180302  0.0  ...  0.0  0.0  0.0  0.0  0.0  0.0  0.0  0.0  0.0  341.65  \n",
            "\n",
            "[1 rows x 67 columns]\n"
          ]
        }
      ]
    },
    {
      "cell_type": "code",
      "source": [
        "# data_set.hist(column=['Tg'],bins=100, figsize=(10,10))\n",
        "# plt.title('Histogram of Tg and Number of Samples')\n",
        "# plt.xlabel('Tg')\n",
        "# plt.ylabel('Number of Samples')\n",
        "\n",
        "\n",
        "# x = nm.mean(data_set['Tg'])\n",
        "# print(\"Mean\" , x)\n",
        "# x = nm.median(data_set['Tg'])\n",
        "# print(\"Median\" , x)\n"
      ],
      "metadata": {
        "id": "wQg8jnTG7Zh4"
      },
      "execution_count": null,
      "outputs": []
    },
    {
      "cell_type": "code",
      "source": [
        "# data_set.hist(column=['O'],bins=100, figsize=(10,10))\n",
        "# plt.title('Histogram of Atomic Percentage of Oxygen')\n",
        "# plt.xlabel('O')\n",
        "# plt.ylabel('Number of Samples')\n",
        "\n"
      ],
      "metadata": {
        "id": "mtCze30QAJSV"
      },
      "execution_count": null,
      "outputs": []
    },
    {
      "cell_type": "code",
      "source": [
        "x_train, x_test, y_train, y_test= train_test_split(x, y, test_size= 0.25, random_state=0)  \n",
        "print(x_train[1]);\n",
        "print(y_train[1]);\n",
        "\n",
        "print(len(data_set));"
      ],
      "metadata": {
        "colab": {
          "base_uri": "https://localhost:8080/"
        },
        "id": "q3gwNVhZ5YVq",
        "outputId": "2a0e0741-45fd-4cc2-ea43-dd54d0eb5583"
      },
      "execution_count": null,
      "outputs": [
        {
          "output_type": "stream",
          "name": "stdout",
          "text": [
            "[0.0056243  0.         0.0056243  0.62429699 0.00843645 0.\n",
            " 0.00618673 0.         0.1631046  0.         0.         0.\n",
            " 0.         0.         0.         0.         0.         0.\n",
            " 0.         0.         0.02671541 0.         0.         0.\n",
            " 0.         0.         0.         0.         0.         0.\n",
            " 0.         0.         0.         0.         0.         0.\n",
            " 0.         0.1574803  0.         0.         0.         0.\n",
            " 0.         0.         0.         0.         0.         0.\n",
            " 0.         0.         0.         0.         0.         0.\n",
            " 0.         0.         0.         0.         0.00253093 0.\n",
            " 0.         0.         0.         0.         0.        ]\n",
            "561.15\n",
            "51000\n"
          ]
        }
      ]
    },
    {
      "cell_type": "markdown",
      "source": [
        "### K Neighbours Regression\n",
        "\n",
        "The KNN algorithm uses ‘feature similarity’ to predict the values of any new data points. This means that the new point is assigned a value based on how closely it resembles the points in the training set. We are going to use KNN with K = sqrt(N) for best results i.e. K neighbours of a node are considered while training the data."
      ],
      "metadata": {
        "id": "S0mwL4do-L00"
      }
    },
    {
      "cell_type": "code",
      "source": [
        "from sklearn.neighbors import KNeighborsRegressor \n",
        "regressor_knn= KNeighborsRegressor(n_neighbors=6, weights = \"distance\")  \n",
        "regressor_knn.fit(x_train, y_train)  \n"
      ],
      "metadata": {
        "colab": {
          "base_uri": "https://localhost:8080/"
        },
        "id": "eu9FOo1B-uhI",
        "outputId": "5bc3ef4d-9836-498e-e5a1-e1765d10586f"
      },
      "execution_count": null,
      "outputs": [
        {
          "output_type": "execute_result",
          "data": {
            "text/plain": [
              "KNeighborsRegressor(n_neighbors=6, weights='distance')"
            ]
          },
          "metadata": {},
          "execution_count": 114
        }
      ]
    },
    {
      "cell_type": "markdown",
      "source": [
        "Predicting the data using the test dataset"
      ],
      "metadata": {
        "id": "jafWlZb8pitV"
      }
    },
    {
      "cell_type": "code",
      "source": [
        "y_pred= regressor_knn.predict(x_test)  "
      ],
      "metadata": {
        "id": "mPnuAyltCAdJ"
      },
      "execution_count": null,
      "outputs": []
    },
    {
      "cell_type": "code",
      "source": [
        "mse = sklearn.metrics.mean_squared_error(y_test, y_pred)  \n",
        "  \n",
        "rmse = math.sqrt(mse)  \n",
        "  \n",
        "print(\"The difference between actual and predicted values\", rmse)"
      ],
      "metadata": {
        "colab": {
          "base_uri": "https://localhost:8080/"
        },
        "id": "30tPWJPBEV50",
        "outputId": "cc5c74bd-0d48-486c-a7e0-180df2007526"
      },
      "execution_count": null,
      "outputs": [
        {
          "output_type": "stream",
          "name": "stdout",
          "text": [
            "The difference between actual and predicted values 34.33536045704681\n"
          ]
        }
      ]
    },
    {
      "cell_type": "markdown",
      "source": [
        "Calculating the various parameters as mentioned in the paper for evaluating the algorithm used.\n",
        "\n",
        "1. **RMSE(Root Mean Square Error):** Compares the squared deviations from the expected outcomes and takes the square root from the\n",
        "aggregated errors.\n",
        "2. **RRMSE (Relative Root Mean Square Error):** Assesses the predictive performance regression algorithms, bringing the advantage of measuring the\n",
        "target algorithm improvements over a baseline.\n",
        "3. **RD (Relative Deviation):** Measures how the predictions deviate from the expected outcome in percentage.\n",
        "4. **R^2 (Proportion of Variance):** Proportion of the variance in the dependent variable that is predictable from the independent variable(s)."
      ],
      "metadata": {
        "id": "xqtfGGl7pk21"
      }
    },
    {
      "cell_type": "code",
      "source": [
        "mse = sklearn.metrics.mean_squared_error(y_test, y_pred)\n",
        "rmse = math.sqrt(mse)\n",
        "\n",
        "print(\"RMSE \", rmse);\n",
        "\n",
        "mean_y_test = y_test.mean()\n",
        "# print(mean_y_test)\n",
        "denom = nm.sum(nm.square(y_pred-mean_y_test))\n",
        "# print(denom)\n",
        "numer = nm.sum(nm.square(y_pred-y_test))\n",
        "# print(numer)\n",
        "\n",
        "rrmse = math.sqrt(numer/denom);\n",
        "print(\"RRMSE \", rrmse)\n",
        "\n",
        "rd = sum(abs(y_test-y_pred)/y_test)*100/len(y_test);\n",
        "\n",
        "print(\"RD \" , rd)\n",
        "\n",
        "r_square = 1 - (rrmse*rrmse);\n",
        "print(\"R_SQUARE \", r_square);"
      ],
      "metadata": {
        "colab": {
          "base_uri": "https://localhost:8080/"
        },
        "id": "D3pKnfSp1ptz",
        "outputId": "6824b73b-0971-4d38-a82e-2d339b93b4fc"
      },
      "execution_count": null,
      "outputs": [
        {
          "output_type": "stream",
          "name": "stdout",
          "text": [
            "RMSE  34.33536045704681\n",
            "RRMSE  0.22928145316348406\n",
            "RD  2.6084995310671055\n",
            "R_SQUARE  0.9474300152352411\n"
          ]
        }
      ]
    },
    {
      "cell_type": "markdown",
      "source": [
        "### Random Forest Regression\n",
        "\n",
        "A random forest is a meta estimator that fits a number of classifying decision trees on various sub-samples of the dataset and uses averaging to improve the predictive accuracy and control over-fitting. The sub-sample size is controlled with the max_samples parameter if bootstrap=True (default), otherwise the whole dataset is used to build each tree."
      ],
      "metadata": {
        "id": "X48Ula-Aq0Gy"
      }
    },
    {
      "cell_type": "code",
      "source": [
        "from sklearn.ensemble import RandomForestRegressor\n",
        "  \n",
        " # create regressor object\n",
        "regressor_rf = RandomForestRegressor(n_estimators = 100, max_features = \"sqrt\")\n",
        "  \n",
        "# fit the regressor with x and y data\n",
        "regressor_rf.fit(x_train, y_train) "
      ],
      "metadata": {
        "colab": {
          "base_uri": "https://localhost:8080/"
        },
        "id": "1Jd6Op3dG1jh",
        "outputId": "5a0aca62-7d77-474c-d0c3-b627e853e578"
      },
      "execution_count": null,
      "outputs": [
        {
          "output_type": "execute_result",
          "data": {
            "text/plain": [
              "RandomForestRegressor(max_features='sqrt')"
            ]
          },
          "metadata": {},
          "execution_count": 118
        }
      ]
    },
    {
      "cell_type": "markdown",
      "source": [
        "Predicting the data using the test dataset"
      ],
      "metadata": {
        "id": "ZCz4peUjrJNl"
      }
    },
    {
      "cell_type": "code",
      "source": [
        "y_pred = regressor_rf.predict(x_test)"
      ],
      "metadata": {
        "id": "qOLOZRpvHsg7"
      },
      "execution_count": null,
      "outputs": []
    },
    {
      "cell_type": "markdown",
      "source": [
        "Calculating the various parameters as mentioned in the paper for evaluating the algorithm used.\n",
        "\n",
        "1. **RMSE(Root Mean Square Error):** Compares the squared deviations from the expected outcomes and takes the square root from the\n",
        "aggregated errors.\n",
        "2. **RRMSE (Relative Root Mean Square Error):** Assesses the predictive performance regression algorithms, bringing the advantage of measuring the\n",
        "target algorithm improvements over a baseline.\n",
        "3. **RD (Relative Deviation):** Measures how the predictions deviate from the expected outcome in percentage.\n",
        "4. **R^2 (Proportion of Variance):** Proportion of the variance in the dependent variable that is predictable from the independent variable(s)."
      ],
      "metadata": {
        "id": "TgRvBOy1rmP1"
      }
    },
    {
      "cell_type": "code",
      "source": [
        "mse = sklearn.metrics.mean_squared_error(y_test, y_pred)\n",
        "rmse = math.sqrt(mse)\n",
        "\n",
        "print(\"RMSE \", rmse);\n",
        "\n",
        "mean_y_test = y_test.mean()\n",
        "# print(mean_y_test)\n",
        "denom = nm.sum(nm.square(y_pred-mean_y_test))\n",
        "# print(denom)\n",
        "numer = nm.sum(nm.square(y_pred-y_test))\n",
        "# print(numer)\n",
        "\n",
        "rrmse = math.sqrt(numer/denom);\n",
        "print(\"RRMSE \", rrmse)\n",
        "\n",
        "rd = sum(abs(y_test-y_pred)/y_test)*100/len(y_test);\n",
        "\n",
        "print(\"RD \" , rd)\n",
        "\n",
        "r_square = 1 - (rrmse*rrmse);\n",
        "print(\"R_SQUARE \", r_square);"
      ],
      "metadata": {
        "colab": {
          "base_uri": "https://localhost:8080/"
        },
        "id": "aspErRUKHy-W",
        "outputId": "bbd27a0a-7ad4-4aa9-c999-b538ee962b0d"
      },
      "execution_count": null,
      "outputs": [
        {
          "output_type": "stream",
          "name": "stdout",
          "text": [
            "RMSE  31.24044477446083\n",
            "RRMSE  0.2155501748684451\n",
            "RD  2.4903036893779777\n",
            "R_SQUARE  0.9535381221141828\n"
          ]
        }
      ]
    },
    {
      "cell_type": "markdown",
      "source": [
        "Finding the values of other parameters to have an insight of the algorithm and how it can be used to train the model better."
      ],
      "metadata": {
        "id": "Nkkqzj7_rpVV"
      }
    },
    {
      "cell_type": "code",
      "source": [
        "mean_y_test = y_test.mean()\n",
        "print(mean_y_test)\n",
        "denom = nm.sum(nm.square(y_pred-mean_y_test))\n",
        "print(denom)\n",
        "numer = nm.sum(nm.square(y_pred-y_test))\n",
        "print(numer)\n",
        "print(math.sqrt(numer/denom))"
      ],
      "metadata": {
        "colab": {
          "base_uri": "https://localhost:8080/"
        },
        "id": "CRzLVwnVKk6V",
        "outputId": "777b582c-37b0-4289-e440-d5616ebdf283"
      },
      "execution_count": null,
      "outputs": [
        {
          "output_type": "stream",
          "name": "stdout",
          "text": [
            "767.6092156862744\n",
            "267822982.73294094\n",
            "12443558.718753247\n",
            "0.2155501748684451\n"
          ]
        }
      ]
    },
    {
      "cell_type": "code",
      "source": [
        "sum(abs(y_test-y_pred)/y_test)*100/len(y_test)"
      ],
      "metadata": {
        "colab": {
          "base_uri": "https://localhost:8080/"
        },
        "id": "cXj_xEyHN2Q-",
        "outputId": "0f94a142-cfa2-47cb-95ea-dff9deef075b"
      },
      "execution_count": null,
      "outputs": [
        {
          "output_type": "execute_result",
          "data": {
            "text/plain": [
              "2.4903036893779777"
            ]
          },
          "metadata": {},
          "execution_count": 122
        }
      ]
    },
    {
      "cell_type": "markdown",
      "source": [
        "### Relative Importance of Parameters\n",
        "\n",
        "The Relative variable importance graph plots the predictors in order of their effect on model improvement when splits are made on a predictor over the entire forest. The variable with the highest improvement score is set as the most important variable, and the other variables follow in order of importance. Relative variable importance standardizes the importance values for ease of interpretation. Relative importance is defined as the percent improvement with respect to the most important predictor, which has an importance of 100%.\n",
        "\n",
        "Relative importance is calculated by dividing each variable importance score by the largest importance score of the variables, then we multiply by 100%.\n",
        "\n"
      ],
      "metadata": {
        "id": "QNVspBlZvpl6"
      }
    },
    {
      "cell_type": "code",
      "source": [
        "from sklearn import tree\n",
        "tree_model = tree.DecisionTreeRegressor(max_depth=25,random_state=None)\n",
        "tree_model.fit(x_train,y_train)"
      ],
      "metadata": {
        "colab": {
          "base_uri": "https://localhost:8080/"
        },
        "id": "3YRyt3CqwPj8",
        "outputId": "20d2c585-dbf1-4d97-ff1d-f7cb285b4db7"
      },
      "execution_count": null,
      "outputs": [
        {
          "output_type": "execute_result",
          "data": {
            "text/plain": [
              "DecisionTreeRegressor(max_depth=25)"
            ]
          },
          "metadata": {},
          "execution_count": 134
        }
      ]
    },
    {
      "cell_type": "code",
      "source": [
        "data = '1-s2.0-S1359645420300720-mmc1.csv'\n",
        "\n",
        "df = pd.read_csv(data)\n",
        "del df['ID']\n",
        "df.info()"
      ],
      "metadata": {
        "colab": {
          "base_uri": "https://localhost:8080/"
        },
        "id": "yA8Psa0hxZPt",
        "outputId": "a5fc0f3b-f462-4057-d61b-fd141b8430dc"
      },
      "execution_count": null,
      "outputs": [
        {
          "output_type": "stream",
          "name": "stdout",
          "text": [
            "<class 'pandas.core.frame.DataFrame'>\n",
            "RangeIndex: 51000 entries, 0 to 50999\n",
            "Data columns (total 66 columns):\n",
            " #   Column  Non-Null Count  Dtype  \n",
            "---  ------  --------------  -----  \n",
            " 0   Li      51000 non-null  float64\n",
            " 1   Be      51000 non-null  float64\n",
            " 2   B       51000 non-null  float64\n",
            " 3   O       51000 non-null  float64\n",
            " 4   Na      51000 non-null  float64\n",
            " 5   Mg      51000 non-null  float64\n",
            " 6   Al      51000 non-null  float64\n",
            " 7   Si      51000 non-null  float64\n",
            " 8   P       51000 non-null  float64\n",
            " 9   K       51000 non-null  float64\n",
            " 10  Ca      51000 non-null  float64\n",
            " 11  Sc      51000 non-null  float64\n",
            " 12  Ti      51000 non-null  float64\n",
            " 13  V       51000 non-null  float64\n",
            " 14  Cr      51000 non-null  float64\n",
            " 15  Mn      51000 non-null  float64\n",
            " 16  Fe      51000 non-null  float64\n",
            " 17  Co      51000 non-null  float64\n",
            " 18  Ni      51000 non-null  float64\n",
            " 19  Cu      51000 non-null  float64\n",
            " 20  Zn      51000 non-null  float64\n",
            " 21  Ga      51000 non-null  float64\n",
            " 22  Ge      51000 non-null  float64\n",
            " 23  As      51000 non-null  float64\n",
            " 24  Se      51000 non-null  float64\n",
            " 25  Rb      51000 non-null  float64\n",
            " 26  Sr      51000 non-null  float64\n",
            " 27  Y       51000 non-null  float64\n",
            " 28  Zr      51000 non-null  float64\n",
            " 29  Nb      51000 non-null  float64\n",
            " 30  Mo      51000 non-null  float64\n",
            " 31  Ru      51000 non-null  float64\n",
            " 32  Rh      51000 non-null  float64\n",
            " 33  Pd      51000 non-null  float64\n",
            " 34  Ag      51000 non-null  float64\n",
            " 35  Cd      51000 non-null  float64\n",
            " 36  In      51000 non-null  float64\n",
            " 37  Sn      51000 non-null  float64\n",
            " 38  Sb      51000 non-null  float64\n",
            " 39  Te      51000 non-null  float64\n",
            " 40  Cs      51000 non-null  float64\n",
            " 41  Ba      51000 non-null  float64\n",
            " 42  La      51000 non-null  float64\n",
            " 43  Ce      51000 non-null  float64\n",
            " 44  Pr      51000 non-null  float64\n",
            " 45  Nd      51000 non-null  float64\n",
            " 46  Sm      51000 non-null  float64\n",
            " 47  Eu      51000 non-null  float64\n",
            " 48  Gd      51000 non-null  float64\n",
            " 49  Tb      51000 non-null  float64\n",
            " 50  Dy      51000 non-null  float64\n",
            " 51  Ho      51000 non-null  float64\n",
            " 52  Er      51000 non-null  float64\n",
            " 53  Tm      51000 non-null  float64\n",
            " 54  Yb      51000 non-null  float64\n",
            " 55  Lu      51000 non-null  float64\n",
            " 56  Hf      51000 non-null  float64\n",
            " 57  Ta      51000 non-null  float64\n",
            " 58  W       51000 non-null  float64\n",
            " 59  Hg      51000 non-null  float64\n",
            " 60  Tl      51000 non-null  float64\n",
            " 61  Pb      51000 non-null  float64\n",
            " 62  Bi      51000 non-null  float64\n",
            " 63  Th      51000 non-null  float64\n",
            " 64  U       51000 non-null  float64\n",
            " 65  Tg      51000 non-null  float64\n",
            "dtypes: float64(66)\n",
            "memory usage: 25.7 MB\n"
          ]
        }
      ]
    },
    {
      "cell_type": "code",
      "source": [
        "print(\"Relative importance of the features: \",tree_model.feature_importances_)\n",
        "with mtp.style.context('dark_background'):\n",
        "    mtp.figure(figsize=(10,20))\n",
        "    mtp.grid(True)\n",
        "    mtp.yticks(range(len(df.columns),1,-1),df.columns[:-1],fontsize=15)\n",
        "    mtp.xlabel(\"Relative (normalized) importance of parameters\",fontsize=15)\n",
        "    mtp.ylabel(\"Features\\n\",fontsize=20)\n",
        "    mtp.barh(range(len(df.columns),1,-1),width=tree_model.feature_importances_,height=0.40)"
      ],
      "metadata": {
        "colab": {
          "base_uri": "https://localhost:8080/",
          "height": 1000
        },
        "id": "BtiISFDTwWcr",
        "outputId": "01405562-877d-4ca7-9cfd-c9cc2d9ca221"
      },
      "execution_count": null,
      "outputs": [
        {
          "output_type": "stream",
          "name": "stdout",
          "text": [
            "Relative importance of the features:  [0.00000000e+00 0.00000000e+00 5.29542656e-03 1.50117859e-01\n",
            " 9.02018983e-03 2.17181228e-03 2.78600208e-02 7.39104305e-01\n",
            " 3.36775187e-05 1.06297180e-03 5.37693663e-03 0.00000000e+00\n",
            " 2.15804881e-02 0.00000000e+00 0.00000000e+00 0.00000000e+00\n",
            " 2.36305263e-05 0.00000000e+00 0.00000000e+00 0.00000000e+00\n",
            " 0.00000000e+00 0.00000000e+00 0.00000000e+00 0.00000000e+00\n",
            " 0.00000000e+00 0.00000000e+00 0.00000000e+00 9.40138099e-03\n",
            " 3.15073684e-05 8.36476398e-05 0.00000000e+00 0.00000000e+00\n",
            " 0.00000000e+00 0.00000000e+00 0.00000000e+00 0.00000000e+00\n",
            " 0.00000000e+00 0.00000000e+00 0.00000000e+00 0.00000000e+00\n",
            " 0.00000000e+00 3.56180315e-03 1.79670826e-03 1.19277895e-04\n",
            " 0.00000000e+00 0.00000000e+00 9.14356690e-05 9.04229322e-04\n",
            " 1.06943844e-02 0.00000000e+00 0.00000000e+00 0.00000000e+00\n",
            " 1.56522055e-03 0.00000000e+00 4.28645593e-03 2.64479874e-03\n",
            " 3.09033047e-03 8.15012029e-05 0.00000000e+00 0.00000000e+00\n",
            " 0.00000000e+00 0.00000000e+00 0.00000000e+00 0.00000000e+00\n",
            " 0.00000000e+00]\n"
          ]
        },
        {
          "output_type": "display_data",
          "data": {
            "text/plain": [
              "<Figure size 720x1440 with 1 Axes>"
            ],
            "image/png": "[encoded data removed]"
          },
          "metadata": {}
        }
      ]
    },
    {
      "cell_type": "markdown",
      "source": [
        "### Dataset Partitioning"
      ],
      "metadata": {
        "id": "tq7pRuTwzUTD"
      }
    },
    {
      "cell_type": "markdown",
      "source": [
        "Partitioning the dataset based on high ( >= 1150 ) and low ( <=450 ) to find the same parameters on low and high values of Tg."
      ],
      "metadata": {
        "id": "DODIpCvBr0VK"
      }
    },
    {
      "cell_type": "code",
      "source": [
        "low_extreme_values = data_set[ (data_set['Tg'] <= 450)];\n",
        "high_extreme_values = data_set[data_set['Tg'] >= 1150];\n",
        "\n",
        "#printing number of data values in the low and high Tg categories\n",
        "print(len(low_extreme_values));\n",
        "print(len(high_extreme_values));"
      ],
      "metadata": {
        "colab": {
          "base_uri": "https://localhost:8080/"
        },
        "id": "lD8yk9ZiOUPJ",
        "outputId": "f9ca623b-67ec-4f42-9f67-f48b3451218d"
      },
      "execution_count": null,
      "outputs": [
        {
          "output_type": "stream",
          "name": "stdout",
          "text": [
            "496\n",
            "378\n"
          ]
        }
      ]
    },
    {
      "cell_type": "markdown",
      "source": [
        "Splitting the given dataset based on the high Tg values into test and train datasets."
      ],
      "metadata": {
        "id": "x0oIbiepyvXs"
      }
    },
    {
      "cell_type": "code",
      "source": [
        "x = high_extreme_values.iloc[:, 1:66].values  \n",
        "y = high_extreme_values.iloc[:, 66].values  \n",
        "  \n",
        "# print(x[0]);\n",
        "# print(y[0]);\n",
        "\n",
        "x_train, x_test, y_train, y_test= train_test_split(x, y, test_size= 0.25, random_state=0)  \n",
        "print(x_train[0]);\n",
        "print(y_train[0]);\n"
      ],
      "metadata": {
        "id": "sc_vDX_GU9sg",
        "colab": {
          "base_uri": "https://localhost:8080/"
        },
        "outputId": "9fb6fdaf-5796-4308-f225-7dddedfc33c4"
      },
      "execution_count": null,
      "outputs": [
        {
          "output_type": "stream",
          "name": "stdout",
          "text": [
            "[0.         0.         0.         0.62366829 0.00361034 0.0088829\n",
            " 0.1013895  0.1809935  0.00094582 0.01472809 0.02234547 0.\n",
            " 0.0033615  0.         0.         0.         0.04007458 0.\n",
            " 0.         0.         0.         0.         0.         0.\n",
            " 0.         0.         0.         0.         0.         0.\n",
            " 0.         0.         0.         0.         0.         0.\n",
            " 0.         0.         0.         0.         0.         0.\n",
            " 0.         0.         0.         0.         0.         0.\n",
            " 0.         0.         0.         0.         0.         0.\n",
            " 0.         0.         0.         0.         0.         0.\n",
            " 0.         0.         0.         0.         0.        ]\n",
            "1183.15\n"
          ]
        }
      ]
    },
    {
      "cell_type": "markdown",
      "source": [
        "**Training and printing the outputs using the K-Neighbours Regression**"
      ],
      "metadata": {
        "id": "MNE_FOd1znrk"
      }
    },
    {
      "cell_type": "code",
      "source": [
        "from sklearn.neighbors import KNeighborsRegressor \n",
        "regressor_knn= KNeighborsRegressor(n_neighbors=6, weights = \"distance\")  \n",
        "regressor_knn.fit(x_train, y_train)  "
      ],
      "metadata": {
        "colab": {
          "base_uri": "https://localhost:8080/"
        },
        "id": "fCMYQjIsVHhr",
        "outputId": "646c1667-af51-43c9-fd5a-8e370a1f783e"
      },
      "execution_count": null,
      "outputs": [
        {
          "output_type": "execute_result",
          "data": {
            "text/plain": [
              "KNeighborsRegressor(n_neighbors=6, weights='distance')"
            ]
          },
          "metadata": {},
          "execution_count": 128
        }
      ]
    },
    {
      "cell_type": "code",
      "source": [
        "y_pred= regressor_knn.predict(x_test)  "
      ],
      "metadata": {
        "id": "W3CS_sOZVU8v"
      },
      "execution_count": null,
      "outputs": []
    },
    {
      "cell_type": "code",
      "source": [
        "mse = sklearn.metrics.mean_squared_error(y_test, y_pred)\n",
        "rmse = math.sqrt(mse)\n",
        "\n",
        "print(\"RMSE \", rmse);\n",
        "\n",
        "mean_y_test = y_test.mean()\n",
        "# print(mean_y_test)\n",
        "denom = nm.sum(nm.square(y_pred-mean_y_test))\n",
        "# print(denom)\n",
        "numer = nm.sum(nm.square(y_pred-y_test))\n",
        "# print(numer)\n",
        "\n",
        "rrmse = math.sqrt(numer/denom);\n",
        "print(\"RRMSE \", rrmse)\n",
        "\n",
        "rd = sum(abs(y_test-y_pred)/y_test)*100/len(y_test);\n",
        "\n",
        "print(\"RD \" , rd)\n",
        "\n",
        "r_square = 1 - (rrmse*rrmse);\n",
        "print(\"R_SQUARE \", r_square);"
      ],
      "metadata": {
        "colab": {
          "base_uri": "https://localhost:8080/"
        },
        "id": "XUYwTHf78AHw",
        "outputId": "cae75084-09e2-4489-f457-ea5f80ea87e7"
      },
      "execution_count": null,
      "outputs": [
        {
          "output_type": "stream",
          "name": "stdout",
          "text": [
            "RMSE  29.9548228924698\n",
            "RRMSE  0.46071378701201093\n",
            "RD  1.463676195428497\n",
            "R_SQUARE  0.7877428064570514\n"
          ]
        }
      ]
    },
    {
      "cell_type": "markdown",
      "source": [
        "**Training and printing the outputs using the K-Neighbours Regression**"
      ],
      "metadata": {
        "id": "CLsD8_1izzDo"
      }
    },
    {
      "cell_type": "code",
      "source": [
        "from sklearn.ensemble import RandomForestRegressor\n",
        "  \n",
        " # create regressor object\n",
        "regressor_rf = RandomForestRegressor(n_estimators = 70, max_features = \"sqrt\")\n",
        "  \n",
        "# fit the regressor with x and y data\n",
        "regressor_rf.fit(x_train, y_train) "
      ],
      "metadata": {
        "colab": {
          "base_uri": "https://localhost:8080/"
        },
        "id": "QOECaOZe8ZKo",
        "outputId": "6d7e9bb0-159a-4aff-91d0-932f50ff2379"
      },
      "execution_count": null,
      "outputs": [
        {
          "output_type": "execute_result",
          "data": {
            "text/plain": [
              "RandomForestRegressor(max_features='sqrt', n_estimators=70)"
            ]
          },
          "metadata": {},
          "execution_count": 131
        }
      ]
    },
    {
      "cell_type": "code",
      "source": [
        "y_pred = regressor_rf.predict(x_test)"
      ],
      "metadata": {
        "id": "uL_b26m1shQd"
      },
      "execution_count": null,
      "outputs": []
    },
    {
      "cell_type": "code",
      "source": [
        "mse = sklearn.metrics.mean_squared_error(y_test, y_pred)\n",
        "rmse = math.sqrt(mse)\n",
        "\n",
        "print(\"RMSE \", rmse);\n",
        "\n",
        "mean_y_test = y_test.mean()\n",
        "# print(mean_y_test)\n",
        "denom = nm.sum(nm.square(y_pred-mean_y_test))\n",
        "# print(denom)\n",
        "numer = nm.sum(nm.square(y_pred-y_test))\n",
        "# print(numer)\n",
        "\n",
        "rrmse = math.sqrt(numer/denom);\n",
        "print(\"RRMSE \", rrmse)\n",
        "\n",
        "rd = sum(abs(y_test-y_pred)/y_test)*100/len(y_test);\n",
        "\n",
        "print(\"RD \" , rd)\n",
        "\n",
        "r_square = 1 - (rrmse*rrmse);\n",
        "print(\"R_SQUARE \", r_square);"
      ],
      "metadata": {
        "colab": {
          "base_uri": "https://localhost:8080/"
        },
        "id": "fDN8TA60sh-Q",
        "outputId": "53362415-9943-49cf-894c-4b924048ae0c"
      },
      "execution_count": null,
      "outputs": [
        {
          "output_type": "stream",
          "name": "stdout",
          "text": [
            "RMSE  35.31659605744561\n",
            "RRMSE  0.509151163123079\n",
            "RD  1.6189432105650599\n",
            "R_SQUARE  0.7407650930904158\n"
          ]
        }
      ]
    }
  ]
}